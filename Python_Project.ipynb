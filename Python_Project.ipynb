{
 "cells": [
  {
   "cell_type": "markdown",
   "metadata": {},
   "source": [
    "## Importing Libraries"
   ]
  },
  {
   "cell_type": "code",
   "execution_count": 1,
   "metadata": {
    "ExecuteTime": {
     "end_time": "2020-03-12T11:01:25.773562Z",
     "start_time": "2020-03-12T11:01:23.707697Z"
    }
   },
   "outputs": [],
   "source": [
    "import numpy as np\n",
    "import pandas as pd\n",
    "import matplotlib.pyplot as plt\n",
    "import seaborn as sns "
   ]
  },
  {
   "cell_type": "markdown",
   "metadata": {},
   "source": [
    "## Reading Dataset"
   ]
  },
  {
   "cell_type": "code",
   "execution_count": 4,
   "metadata": {
    "ExecuteTime": {
     "end_time": "2020-03-12T11:02:17.035352Z",
     "start_time": "2020-03-12T11:01:25.776510Z"
    }
   },
   "outputs": [],
   "source": [
    "import pandas as pd\n",
    "from pyxlsb import open_workbook as open_xlsb\n",
    "\n",
    "df=[]\n",
    "\n",
    "with open_xlsb('Data_CSPL_Risk_model.xlsb') as wb:\n",
    "    with wb.get_sheet(1) as sheet:\n",
    "        for row in sheet.rows():\n",
    "            df.append([item.v for item in row])\n",
    "\n",
    "df=pd.DataFrame(df[1:],columns=df[0])"
   ]
  },
  {
   "cell_type": "code",
   "execution_count": 5,
   "metadata": {
    "ExecuteTime": {
     "end_time": "2020-03-12T11:02:17.118306Z",
     "start_time": "2020-03-12T11:02:17.039351Z"
    }
   },
   "outputs": [
    {
     "data": {
      "text/html": [
       "<div>\n",
       "<style scoped>\n",
       "    .dataframe tbody tr th:only-of-type {\n",
       "        vertical-align: middle;\n",
       "    }\n",
       "\n",
       "    .dataframe tbody tr th {\n",
       "        vertical-align: top;\n",
       "    }\n",
       "\n",
       "    .dataframe thead th {\n",
       "        text-align: right;\n",
       "    }\n",
       "</style>\n",
       "<table border=\"1\" class=\"dataframe\">\n",
       "  <thead>\n",
       "    <tr style=\"text-align: right;\">\n",
       "      <th></th>\n",
       "      <th>V1</th>\n",
       "      <th>V2</th>\n",
       "      <th>V3</th>\n",
       "      <th>V4</th>\n",
       "      <th>V5</th>\n",
       "      <th>V6</th>\n",
       "      <th>V7</th>\n",
       "      <th>V8</th>\n",
       "      <th>V9</th>\n",
       "      <th>V10</th>\n",
       "      <th>...</th>\n",
       "      <th>V23</th>\n",
       "      <th>V24</th>\n",
       "      <th>V25</th>\n",
       "      <th>V26</th>\n",
       "      <th>V27</th>\n",
       "      <th>V28</th>\n",
       "      <th>V29</th>\n",
       "      <th>V30</th>\n",
       "      <th>V31</th>\n",
       "      <th>V32</th>\n",
       "    </tr>\n",
       "  </thead>\n",
       "  <tbody>\n",
       "    <tr>\n",
       "      <td>0</td>\n",
       "      <td>1.0</td>\n",
       "      <td>0.0</td>\n",
       "      <td>0.0</td>\n",
       "      <td>24.0</td>\n",
       "      <td>0.0</td>\n",
       "      <td>2432.0</td>\n",
       "      <td>46500.0</td>\n",
       "      <td>24.0</td>\n",
       "      <td>1385.0</td>\n",
       "      <td>SC</td>\n",
       "      <td>...</td>\n",
       "      <td>NaN</td>\n",
       "      <td>NaN</td>\n",
       "      <td>46500.0</td>\n",
       "      <td>NaN</td>\n",
       "      <td>NaN</td>\n",
       "      <td>0.0</td>\n",
       "      <td>0.0</td>\n",
       "      <td>0.0</td>\n",
       "      <td>TIER 1</td>\n",
       "      <td>0.0</td>\n",
       "    </tr>\n",
       "    <tr>\n",
       "      <td>1</td>\n",
       "      <td>2.0</td>\n",
       "      <td>0.0</td>\n",
       "      <td>1.0</td>\n",
       "      <td>24.0</td>\n",
       "      <td>1.0</td>\n",
       "      <td>1495.0</td>\n",
       "      <td>28168.0</td>\n",
       "      <td>24.0</td>\n",
       "      <td>2496.0</td>\n",
       "      <td>MO</td>\n",
       "      <td>...</td>\n",
       "      <td>NaN</td>\n",
       "      <td>NaN</td>\n",
       "      <td>28168.0</td>\n",
       "      <td>NaN</td>\n",
       "      <td>NaN</td>\n",
       "      <td>0.0</td>\n",
       "      <td>0.0</td>\n",
       "      <td>0.0</td>\n",
       "      <td>TIER 1</td>\n",
       "      <td>0.0</td>\n",
       "    </tr>\n",
       "    <tr>\n",
       "      <td>2</td>\n",
       "      <td>3.0</td>\n",
       "      <td>0.0</td>\n",
       "      <td>0.0</td>\n",
       "      <td>26.0</td>\n",
       "      <td>0.0</td>\n",
       "      <td>1707.0</td>\n",
       "      <td>38900.0</td>\n",
       "      <td>30.0</td>\n",
       "      <td>1346.0</td>\n",
       "      <td>SC</td>\n",
       "      <td>...</td>\n",
       "      <td>NaN</td>\n",
       "      <td>105000.0</td>\n",
       "      <td>38900.0</td>\n",
       "      <td>34.0</td>\n",
       "      <td>31.0</td>\n",
       "      <td>31.0</td>\n",
       "      <td>31.0</td>\n",
       "      <td>16.0</td>\n",
       "      <td>TIER 1</td>\n",
       "      <td>0.0</td>\n",
       "    </tr>\n",
       "    <tr>\n",
       "      <td>3</td>\n",
       "      <td>4.0</td>\n",
       "      <td>0.0</td>\n",
       "      <td>0.0</td>\n",
       "      <td>24.0</td>\n",
       "      <td>0.0</td>\n",
       "      <td>2128.0</td>\n",
       "      <td>42900.0</td>\n",
       "      <td>24.0</td>\n",
       "      <td>1375.0</td>\n",
       "      <td>SC</td>\n",
       "      <td>...</td>\n",
       "      <td>NaN</td>\n",
       "      <td>NaN</td>\n",
       "      <td>42900.0</td>\n",
       "      <td>NaN</td>\n",
       "      <td>NaN</td>\n",
       "      <td>0.0</td>\n",
       "      <td>0.0</td>\n",
       "      <td>0.0</td>\n",
       "      <td>TIER 1</td>\n",
       "      <td>0.0</td>\n",
       "    </tr>\n",
       "    <tr>\n",
       "      <td>4</td>\n",
       "      <td>5.0</td>\n",
       "      <td>0.0</td>\n",
       "      <td>0.0</td>\n",
       "      <td>27.0</td>\n",
       "      <td>0.0</td>\n",
       "      <td>1824.0</td>\n",
       "      <td>40900.0</td>\n",
       "      <td>30.0</td>\n",
       "      <td>4140.0</td>\n",
       "      <td>MC</td>\n",
       "      <td>...</td>\n",
       "      <td>NaN</td>\n",
       "      <td>NaN</td>\n",
       "      <td>40900.0</td>\n",
       "      <td>NaN</td>\n",
       "      <td>NaN</td>\n",
       "      <td>0.0</td>\n",
       "      <td>0.0</td>\n",
       "      <td>0.0</td>\n",
       "      <td>TIER 1</td>\n",
       "      <td>0.0</td>\n",
       "    </tr>\n",
       "    <tr>\n",
       "      <td>...</td>\n",
       "      <td>...</td>\n",
       "      <td>...</td>\n",
       "      <td>...</td>\n",
       "      <td>...</td>\n",
       "      <td>...</td>\n",
       "      <td>...</td>\n",
       "      <td>...</td>\n",
       "      <td>...</td>\n",
       "      <td>...</td>\n",
       "      <td>...</td>\n",
       "      <td>...</td>\n",
       "      <td>...</td>\n",
       "      <td>...</td>\n",
       "      <td>...</td>\n",
       "      <td>...</td>\n",
       "      <td>...</td>\n",
       "      <td>...</td>\n",
       "      <td>...</td>\n",
       "      <td>...</td>\n",
       "      <td>...</td>\n",
       "      <td>...</td>\n",
       "    </tr>\n",
       "    <tr>\n",
       "      <td>119523</td>\n",
       "      <td>119524.0</td>\n",
       "      <td>0.0</td>\n",
       "      <td>1.0</td>\n",
       "      <td>NaN</td>\n",
       "      <td>NaN</td>\n",
       "      <td>NaN</td>\n",
       "      <td>NaN</td>\n",
       "      <td>NaN</td>\n",
       "      <td>NaN</td>\n",
       "      <td>None</td>\n",
       "      <td>...</td>\n",
       "      <td>NaN</td>\n",
       "      <td>NaN</td>\n",
       "      <td>NaN</td>\n",
       "      <td>NaN</td>\n",
       "      <td>NaN</td>\n",
       "      <td>0.0</td>\n",
       "      <td>0.0</td>\n",
       "      <td>0.0</td>\n",
       "      <td>TIER 3</td>\n",
       "      <td>0.0</td>\n",
       "    </tr>\n",
       "    <tr>\n",
       "      <td>119524</td>\n",
       "      <td>119525.0</td>\n",
       "      <td>0.0</td>\n",
       "      <td>0.0</td>\n",
       "      <td>NaN</td>\n",
       "      <td>NaN</td>\n",
       "      <td>NaN</td>\n",
       "      <td>NaN</td>\n",
       "      <td>NaN</td>\n",
       "      <td>NaN</td>\n",
       "      <td>None</td>\n",
       "      <td>...</td>\n",
       "      <td>NaN</td>\n",
       "      <td>NaN</td>\n",
       "      <td>33000.0</td>\n",
       "      <td>NaN</td>\n",
       "      <td>NaN</td>\n",
       "      <td>3.0</td>\n",
       "      <td>1.0</td>\n",
       "      <td>0.0</td>\n",
       "      <td>TIER 3</td>\n",
       "      <td>1.0</td>\n",
       "    </tr>\n",
       "    <tr>\n",
       "      <td>119525</td>\n",
       "      <td>119526.0</td>\n",
       "      <td>0.0</td>\n",
       "      <td>0.0</td>\n",
       "      <td>NaN</td>\n",
       "      <td>NaN</td>\n",
       "      <td>NaN</td>\n",
       "      <td>NaN</td>\n",
       "      <td>NaN</td>\n",
       "      <td>NaN</td>\n",
       "      <td>None</td>\n",
       "      <td>...</td>\n",
       "      <td>NaN</td>\n",
       "      <td>NaN</td>\n",
       "      <td>NaN</td>\n",
       "      <td>NaN</td>\n",
       "      <td>NaN</td>\n",
       "      <td>0.0</td>\n",
       "      <td>0.0</td>\n",
       "      <td>0.0</td>\n",
       "      <td>TIER 3</td>\n",
       "      <td>0.0</td>\n",
       "    </tr>\n",
       "    <tr>\n",
       "      <td>119526</td>\n",
       "      <td>119527.0</td>\n",
       "      <td>0.0</td>\n",
       "      <td>1.0</td>\n",
       "      <td>NaN</td>\n",
       "      <td>NaN</td>\n",
       "      <td>NaN</td>\n",
       "      <td>NaN</td>\n",
       "      <td>NaN</td>\n",
       "      <td>NaN</td>\n",
       "      <td>None</td>\n",
       "      <td>...</td>\n",
       "      <td>NaN</td>\n",
       "      <td>31990.0</td>\n",
       "      <td>43600.0</td>\n",
       "      <td>NaN</td>\n",
       "      <td>13.0</td>\n",
       "      <td>0.0</td>\n",
       "      <td>0.0</td>\n",
       "      <td>0.0</td>\n",
       "      <td>TIER 1</td>\n",
       "      <td>0.0</td>\n",
       "    </tr>\n",
       "    <tr>\n",
       "      <td>119527</td>\n",
       "      <td>119528.0</td>\n",
       "      <td>0.0</td>\n",
       "      <td>0.0</td>\n",
       "      <td>NaN</td>\n",
       "      <td>NaN</td>\n",
       "      <td>NaN</td>\n",
       "      <td>NaN</td>\n",
       "      <td>NaN</td>\n",
       "      <td>NaN</td>\n",
       "      <td>None</td>\n",
       "      <td>...</td>\n",
       "      <td>NaN</td>\n",
       "      <td>NaN</td>\n",
       "      <td>49900.0</td>\n",
       "      <td>NaN</td>\n",
       "      <td>30.0</td>\n",
       "      <td>4.0</td>\n",
       "      <td>3.0</td>\n",
       "      <td>0.0</td>\n",
       "      <td>TIER 2</td>\n",
       "      <td>0.0</td>\n",
       "    </tr>\n",
       "  </tbody>\n",
       "</table>\n",
       "<p>119528 rows × 32 columns</p>\n",
       "</div>"
      ],
      "text/plain": [
       "              V1   V2   V3    V4   V5      V6       V7    V8      V9   V10  \\\n",
       "0            1.0  0.0  0.0  24.0  0.0  2432.0  46500.0  24.0  1385.0    SC   \n",
       "1            2.0  0.0  1.0  24.0  1.0  1495.0  28168.0  24.0  2496.0    MO   \n",
       "2            3.0  0.0  0.0  26.0  0.0  1707.0  38900.0  30.0  1346.0    SC   \n",
       "3            4.0  0.0  0.0  24.0  0.0  2128.0  42900.0  24.0  1375.0    SC   \n",
       "4            5.0  0.0  0.0  27.0  0.0  1824.0  40900.0  30.0  4140.0    MC   \n",
       "...          ...  ...  ...   ...  ...     ...      ...   ...     ...   ...   \n",
       "119523  119524.0  0.0  1.0   NaN  NaN     NaN      NaN   NaN     NaN  None   \n",
       "119524  119525.0  0.0  0.0   NaN  NaN     NaN      NaN   NaN     NaN  None   \n",
       "119525  119526.0  0.0  0.0   NaN  NaN     NaN      NaN   NaN     NaN  None   \n",
       "119526  119527.0  0.0  1.0   NaN  NaN     NaN      NaN   NaN     NaN  None   \n",
       "119527  119528.0  0.0  0.0   NaN  NaN     NaN      NaN   NaN     NaN  None   \n",
       "\n",
       "        ...  V23       V24      V25   V26   V27   V28   V29   V30     V31  V32  \n",
       "0       ...  NaN       NaN  46500.0   NaN   NaN   0.0   0.0   0.0  TIER 1  0.0  \n",
       "1       ...  NaN       NaN  28168.0   NaN   NaN   0.0   0.0   0.0  TIER 1  0.0  \n",
       "2       ...  NaN  105000.0  38900.0  34.0  31.0  31.0  31.0  16.0  TIER 1  0.0  \n",
       "3       ...  NaN       NaN  42900.0   NaN   NaN   0.0   0.0   0.0  TIER 1  0.0  \n",
       "4       ...  NaN       NaN  40900.0   NaN   NaN   0.0   0.0   0.0  TIER 1  0.0  \n",
       "...     ...  ...       ...      ...   ...   ...   ...   ...   ...     ...  ...  \n",
       "119523  ...  NaN       NaN      NaN   NaN   NaN   0.0   0.0   0.0  TIER 3  0.0  \n",
       "119524  ...  NaN       NaN  33000.0   NaN   NaN   3.0   1.0   0.0  TIER 3  1.0  \n",
       "119525  ...  NaN       NaN      NaN   NaN   NaN   0.0   0.0   0.0  TIER 3  0.0  \n",
       "119526  ...  NaN   31990.0  43600.0   NaN  13.0   0.0   0.0   0.0  TIER 1  0.0  \n",
       "119527  ...  NaN       NaN  49900.0   NaN  30.0   4.0   3.0   0.0  TIER 2  0.0  \n",
       "\n",
       "[119528 rows x 32 columns]"
      ]
     },
     "execution_count": 5,
     "metadata": {},
     "output_type": "execute_result"
    }
   ],
   "source": [
    "df"
   ]
  },
  {
   "cell_type": "markdown",
   "metadata": {},
   "source": [
    "## Taking a look through dataset"
   ]
  },
  {
   "cell_type": "code",
   "execution_count": 6,
   "metadata": {
    "ExecuteTime": {
     "end_time": "2020-03-12T11:02:17.303201Z",
     "start_time": "2020-03-12T11:02:17.122304Z"
    }
   },
   "outputs": [
    {
     "name": "stdout",
     "output_type": "stream",
     "text": [
      "<class 'pandas.core.frame.DataFrame'>\n",
      "RangeIndex: 119528 entries, 0 to 119527\n",
      "Data columns (total 32 columns):\n",
      "V1     119528 non-null float64\n",
      "V2     119528 non-null float64\n",
      "V3     119528 non-null float64\n",
      "V4     85048 non-null float64\n",
      "V5     85048 non-null float64\n",
      "V6     85048 non-null float64\n",
      "V7     85048 non-null float64\n",
      "V8     85048 non-null float64\n",
      "V9     85048 non-null float64\n",
      "V10    85048 non-null object\n",
      "V11    85048 non-null float64\n",
      "V12    85048 non-null float64\n",
      "V13    85048 non-null object\n",
      "V14    85048 non-null object\n",
      "V15    84131 non-null object\n",
      "V16    85048 non-null float64\n",
      "V17    85048 non-null float64\n",
      "V18    119528 non-null float64\n",
      "V19    119528 non-null float64\n",
      "V20    119528 non-null float64\n",
      "V21    36626 non-null float64\n",
      "V22    119528 non-null float64\n",
      "V23    19281 non-null float64\n",
      "V24    19028 non-null float64\n",
      "V25    104467 non-null float64\n",
      "V26    13431 non-null float64\n",
      "V27    20433 non-null float64\n",
      "V28    119528 non-null float64\n",
      "V29    119528 non-null float64\n",
      "V30    119528 non-null float64\n",
      "V31    119528 non-null object\n",
      "V32    119528 non-null float64\n",
      "dtypes: float64(27), object(5)\n",
      "memory usage: 29.2+ MB\n"
     ]
    }
   ],
   "source": [
    "df.info()"
   ]
  },
  {
   "cell_type": "code",
   "execution_count": 7,
   "metadata": {
    "ExecuteTime": {
     "end_time": "2020-03-12T11:02:17.778928Z",
     "start_time": "2020-03-12T11:02:17.307198Z"
    }
   },
   "outputs": [
    {
     "data": {
      "text/html": [
       "<div>\n",
       "<style scoped>\n",
       "    .dataframe tbody tr th:only-of-type {\n",
       "        vertical-align: middle;\n",
       "    }\n",
       "\n",
       "    .dataframe tbody tr th {\n",
       "        vertical-align: top;\n",
       "    }\n",
       "\n",
       "    .dataframe thead th {\n",
       "        text-align: right;\n",
       "    }\n",
       "</style>\n",
       "<table border=\"1\" class=\"dataframe\">\n",
       "  <thead>\n",
       "    <tr style=\"text-align: right;\">\n",
       "      <th></th>\n",
       "      <th>V1</th>\n",
       "      <th>V2</th>\n",
       "      <th>V3</th>\n",
       "      <th>V4</th>\n",
       "      <th>V5</th>\n",
       "      <th>V6</th>\n",
       "      <th>V7</th>\n",
       "      <th>V8</th>\n",
       "      <th>V9</th>\n",
       "      <th>V10</th>\n",
       "      <th>...</th>\n",
       "      <th>V23</th>\n",
       "      <th>V24</th>\n",
       "      <th>V25</th>\n",
       "      <th>V26</th>\n",
       "      <th>V27</th>\n",
       "      <th>V28</th>\n",
       "      <th>V29</th>\n",
       "      <th>V30</th>\n",
       "      <th>V31</th>\n",
       "      <th>V32</th>\n",
       "    </tr>\n",
       "  </thead>\n",
       "  <tbody>\n",
       "    <tr>\n",
       "      <td>count</td>\n",
       "      <td>119528.000000</td>\n",
       "      <td>119528.000000</td>\n",
       "      <td>119528.000000</td>\n",
       "      <td>85048.000000</td>\n",
       "      <td>85048.000000</td>\n",
       "      <td>85048.000000</td>\n",
       "      <td>85048.000000</td>\n",
       "      <td>85048.000000</td>\n",
       "      <td>85048.000000</td>\n",
       "      <td>85048</td>\n",
       "      <td>...</td>\n",
       "      <td>1.928100e+04</td>\n",
       "      <td>1.902800e+04</td>\n",
       "      <td>104467.000000</td>\n",
       "      <td>13431.000000</td>\n",
       "      <td>20433.000000</td>\n",
       "      <td>119528.000000</td>\n",
       "      <td>119528.000000</td>\n",
       "      <td>119528.000000</td>\n",
       "      <td>119528</td>\n",
       "      <td>119528.000000</td>\n",
       "    </tr>\n",
       "    <tr>\n",
       "      <td>unique</td>\n",
       "      <td>NaN</td>\n",
       "      <td>NaN</td>\n",
       "      <td>NaN</td>\n",
       "      <td>NaN</td>\n",
       "      <td>NaN</td>\n",
       "      <td>NaN</td>\n",
       "      <td>NaN</td>\n",
       "      <td>NaN</td>\n",
       "      <td>NaN</td>\n",
       "      <td>5</td>\n",
       "      <td>...</td>\n",
       "      <td>NaN</td>\n",
       "      <td>NaN</td>\n",
       "      <td>NaN</td>\n",
       "      <td>NaN</td>\n",
       "      <td>NaN</td>\n",
       "      <td>NaN</td>\n",
       "      <td>NaN</td>\n",
       "      <td>NaN</td>\n",
       "      <td>4</td>\n",
       "      <td>NaN</td>\n",
       "    </tr>\n",
       "    <tr>\n",
       "      <td>top</td>\n",
       "      <td>NaN</td>\n",
       "      <td>NaN</td>\n",
       "      <td>NaN</td>\n",
       "      <td>NaN</td>\n",
       "      <td>NaN</td>\n",
       "      <td>NaN</td>\n",
       "      <td>NaN</td>\n",
       "      <td>NaN</td>\n",
       "      <td>NaN</td>\n",
       "      <td>SC</td>\n",
       "      <td>...</td>\n",
       "      <td>NaN</td>\n",
       "      <td>NaN</td>\n",
       "      <td>NaN</td>\n",
       "      <td>NaN</td>\n",
       "      <td>NaN</td>\n",
       "      <td>NaN</td>\n",
       "      <td>NaN</td>\n",
       "      <td>NaN</td>\n",
       "      <td>TIER 4</td>\n",
       "      <td>NaN</td>\n",
       "    </tr>\n",
       "    <tr>\n",
       "      <td>freq</td>\n",
       "      <td>NaN</td>\n",
       "      <td>NaN</td>\n",
       "      <td>NaN</td>\n",
       "      <td>NaN</td>\n",
       "      <td>NaN</td>\n",
       "      <td>NaN</td>\n",
       "      <td>NaN</td>\n",
       "      <td>NaN</td>\n",
       "      <td>NaN</td>\n",
       "      <td>28949</td>\n",
       "      <td>...</td>\n",
       "      <td>NaN</td>\n",
       "      <td>NaN</td>\n",
       "      <td>NaN</td>\n",
       "      <td>NaN</td>\n",
       "      <td>NaN</td>\n",
       "      <td>NaN</td>\n",
       "      <td>NaN</td>\n",
       "      <td>NaN</td>\n",
       "      <td>41063</td>\n",
       "      <td>NaN</td>\n",
       "    </tr>\n",
       "    <tr>\n",
       "      <td>mean</td>\n",
       "      <td>59764.500000</td>\n",
       "      <td>0.028378</td>\n",
       "      <td>0.473061</td>\n",
       "      <td>17.217148</td>\n",
       "      <td>0.690857</td>\n",
       "      <td>2325.701298</td>\n",
       "      <td>39338.081648</td>\n",
       "      <td>21.060048</td>\n",
       "      <td>3512.692233</td>\n",
       "      <td>NaN</td>\n",
       "      <td>...</td>\n",
       "      <td>4.302522e+05</td>\n",
       "      <td>1.766494e+05</td>\n",
       "      <td>41415.210047</td>\n",
       "      <td>46.980940</td>\n",
       "      <td>48.208976</td>\n",
       "      <td>1.076877</td>\n",
       "      <td>0.823991</td>\n",
       "      <td>0.344898</td>\n",
       "      <td>NaN</td>\n",
       "      <td>0.021869</td>\n",
       "    </tr>\n",
       "    <tr>\n",
       "      <td>std</td>\n",
       "      <td>34504.905825</td>\n",
       "      <td>0.166052</td>\n",
       "      <td>0.859042</td>\n",
       "      <td>5.203209</td>\n",
       "      <td>1.091658</td>\n",
       "      <td>575.614365</td>\n",
       "      <td>11016.619745</td>\n",
       "      <td>5.698900</td>\n",
       "      <td>3754.675342</td>\n",
       "      <td>NaN</td>\n",
       "      <td>...</td>\n",
       "      <td>8.228143e+05</td>\n",
       "      <td>4.075618e+05</td>\n",
       "      <td>13044.008078</td>\n",
       "      <td>42.716225</td>\n",
       "      <td>41.713826</td>\n",
       "      <td>3.737882</td>\n",
       "      <td>3.172612</td>\n",
       "      <td>1.478180</td>\n",
       "      <td>NaN</td>\n",
       "      <td>0.146258</td>\n",
       "    </tr>\n",
       "    <tr>\n",
       "      <td>min</td>\n",
       "      <td>1.000000</td>\n",
       "      <td>0.000000</td>\n",
       "      <td>0.000000</td>\n",
       "      <td>2.000000</td>\n",
       "      <td>0.000000</td>\n",
       "      <td>681.000000</td>\n",
       "      <td>10000.000000</td>\n",
       "      <td>6.000000</td>\n",
       "      <td>1001.000000</td>\n",
       "      <td>NaN</td>\n",
       "      <td>...</td>\n",
       "      <td>9.900000e+01</td>\n",
       "      <td>1.000000e+00</td>\n",
       "      <td>10000.000000</td>\n",
       "      <td>4.000000</td>\n",
       "      <td>4.000000</td>\n",
       "      <td>0.000000</td>\n",
       "      <td>0.000000</td>\n",
       "      <td>0.000000</td>\n",
       "      <td>NaN</td>\n",
       "      <td>0.000000</td>\n",
       "    </tr>\n",
       "    <tr>\n",
       "      <td>25%</td>\n",
       "      <td>29882.750000</td>\n",
       "      <td>0.000000</td>\n",
       "      <td>0.000000</td>\n",
       "      <td>14.000000</td>\n",
       "      <td>0.000000</td>\n",
       "      <td>1895.000000</td>\n",
       "      <td>30000.000000</td>\n",
       "      <td>18.000000</td>\n",
       "      <td>1368.000000</td>\n",
       "      <td>NaN</td>\n",
       "      <td>...</td>\n",
       "      <td>4.490000e+04</td>\n",
       "      <td>3.394050e+04</td>\n",
       "      <td>31000.000000</td>\n",
       "      <td>20.000000</td>\n",
       "      <td>23.000000</td>\n",
       "      <td>0.000000</td>\n",
       "      <td>0.000000</td>\n",
       "      <td>0.000000</td>\n",
       "      <td>NaN</td>\n",
       "      <td>0.000000</td>\n",
       "    </tr>\n",
       "    <tr>\n",
       "      <td>50%</td>\n",
       "      <td>59764.500000</td>\n",
       "      <td>0.000000</td>\n",
       "      <td>0.000000</td>\n",
       "      <td>17.000000</td>\n",
       "      <td>0.000000</td>\n",
       "      <td>2320.000000</td>\n",
       "      <td>39700.000000</td>\n",
       "      <td>24.000000</td>\n",
       "      <td>2307.000000</td>\n",
       "      <td>NaN</td>\n",
       "      <td>...</td>\n",
       "      <td>1.100000e+05</td>\n",
       "      <td>8.800000e+04</td>\n",
       "      <td>42250.000000</td>\n",
       "      <td>31.000000</td>\n",
       "      <td>35.000000</td>\n",
       "      <td>0.000000</td>\n",
       "      <td>0.000000</td>\n",
       "      <td>0.000000</td>\n",
       "      <td>NaN</td>\n",
       "      <td>0.000000</td>\n",
       "    </tr>\n",
       "    <tr>\n",
       "      <td>75%</td>\n",
       "      <td>89646.250000</td>\n",
       "      <td>0.000000</td>\n",
       "      <td>1.000000</td>\n",
       "      <td>21.000000</td>\n",
       "      <td>1.000000</td>\n",
       "      <td>2689.000000</td>\n",
       "      <td>48000.000000</td>\n",
       "      <td>24.000000</td>\n",
       "      <td>3911.000000</td>\n",
       "      <td>NaN</td>\n",
       "      <td>...</td>\n",
       "      <td>4.920000e+05</td>\n",
       "      <td>2.000048e+05</td>\n",
       "      <td>49300.000000</td>\n",
       "      <td>52.000000</td>\n",
       "      <td>55.000000</td>\n",
       "      <td>0.000000</td>\n",
       "      <td>0.000000</td>\n",
       "      <td>0.000000</td>\n",
       "      <td>NaN</td>\n",
       "      <td>0.000000</td>\n",
       "    </tr>\n",
       "    <tr>\n",
       "      <td>max</td>\n",
       "      <td>119528.000000</td>\n",
       "      <td>1.000000</td>\n",
       "      <td>12.000000</td>\n",
       "      <td>36.000000</td>\n",
       "      <td>29.000000</td>\n",
       "      <td>7840.000000</td>\n",
       "      <td>96000.000000</td>\n",
       "      <td>36.000000</td>\n",
       "      <td>21106.000000</td>\n",
       "      <td>NaN</td>\n",
       "      <td>...</td>\n",
       "      <td>2.022777e+07</td>\n",
       "      <td>3.000000e+07</td>\n",
       "      <td>700000.000000</td>\n",
       "      <td>252.000000</td>\n",
       "      <td>268.000000</td>\n",
       "      <td>314.000000</td>\n",
       "      <td>243.000000</td>\n",
       "      <td>96.000000</td>\n",
       "      <td>NaN</td>\n",
       "      <td>1.000000</td>\n",
       "    </tr>\n",
       "  </tbody>\n",
       "</table>\n",
       "<p>11 rows × 32 columns</p>\n",
       "</div>"
      ],
      "text/plain": [
       "                   V1             V2             V3            V4  \\\n",
       "count   119528.000000  119528.000000  119528.000000  85048.000000   \n",
       "unique            NaN            NaN            NaN           NaN   \n",
       "top               NaN            NaN            NaN           NaN   \n",
       "freq              NaN            NaN            NaN           NaN   \n",
       "mean     59764.500000       0.028378       0.473061     17.217148   \n",
       "std      34504.905825       0.166052       0.859042      5.203209   \n",
       "min          1.000000       0.000000       0.000000      2.000000   \n",
       "25%      29882.750000       0.000000       0.000000     14.000000   \n",
       "50%      59764.500000       0.000000       0.000000     17.000000   \n",
       "75%      89646.250000       0.000000       1.000000     21.000000   \n",
       "max     119528.000000       1.000000      12.000000     36.000000   \n",
       "\n",
       "                  V5            V6            V7            V8            V9  \\\n",
       "count   85048.000000  85048.000000  85048.000000  85048.000000  85048.000000   \n",
       "unique           NaN           NaN           NaN           NaN           NaN   \n",
       "top              NaN           NaN           NaN           NaN           NaN   \n",
       "freq             NaN           NaN           NaN           NaN           NaN   \n",
       "mean        0.690857   2325.701298  39338.081648     21.060048   3512.692233   \n",
       "std         1.091658    575.614365  11016.619745      5.698900   3754.675342   \n",
       "min         0.000000    681.000000  10000.000000      6.000000   1001.000000   \n",
       "25%         0.000000   1895.000000  30000.000000     18.000000   1368.000000   \n",
       "50%         0.000000   2320.000000  39700.000000     24.000000   2307.000000   \n",
       "75%         1.000000   2689.000000  48000.000000     24.000000   3911.000000   \n",
       "max        29.000000   7840.000000  96000.000000     36.000000  21106.000000   \n",
       "\n",
       "          V10  ...           V23           V24            V25           V26  \\\n",
       "count   85048  ...  1.928100e+04  1.902800e+04  104467.000000  13431.000000   \n",
       "unique      5  ...           NaN           NaN            NaN           NaN   \n",
       "top        SC  ...           NaN           NaN            NaN           NaN   \n",
       "freq    28949  ...           NaN           NaN            NaN           NaN   \n",
       "mean      NaN  ...  4.302522e+05  1.766494e+05   41415.210047     46.980940   \n",
       "std       NaN  ...  8.228143e+05  4.075618e+05   13044.008078     42.716225   \n",
       "min       NaN  ...  9.900000e+01  1.000000e+00   10000.000000      4.000000   \n",
       "25%       NaN  ...  4.490000e+04  3.394050e+04   31000.000000     20.000000   \n",
       "50%       NaN  ...  1.100000e+05  8.800000e+04   42250.000000     31.000000   \n",
       "75%       NaN  ...  4.920000e+05  2.000048e+05   49300.000000     52.000000   \n",
       "max       NaN  ...  2.022777e+07  3.000000e+07  700000.000000    252.000000   \n",
       "\n",
       "                 V27            V28            V29            V30     V31  \\\n",
       "count   20433.000000  119528.000000  119528.000000  119528.000000  119528   \n",
       "unique           NaN            NaN            NaN            NaN       4   \n",
       "top              NaN            NaN            NaN            NaN  TIER 4   \n",
       "freq             NaN            NaN            NaN            NaN   41063   \n",
       "mean       48.208976       1.076877       0.823991       0.344898     NaN   \n",
       "std        41.713826       3.737882       3.172612       1.478180     NaN   \n",
       "min         4.000000       0.000000       0.000000       0.000000     NaN   \n",
       "25%        23.000000       0.000000       0.000000       0.000000     NaN   \n",
       "50%        35.000000       0.000000       0.000000       0.000000     NaN   \n",
       "75%        55.000000       0.000000       0.000000       0.000000     NaN   \n",
       "max       268.000000     314.000000     243.000000      96.000000     NaN   \n",
       "\n",
       "                  V32  \n",
       "count   119528.000000  \n",
       "unique            NaN  \n",
       "top               NaN  \n",
       "freq              NaN  \n",
       "mean         0.021869  \n",
       "std          0.146258  \n",
       "min          0.000000  \n",
       "25%          0.000000  \n",
       "50%          0.000000  \n",
       "75%          0.000000  \n",
       "max          1.000000  \n",
       "\n",
       "[11 rows x 32 columns]"
      ]
     },
     "execution_count": 7,
     "metadata": {},
     "output_type": "execute_result"
    }
   ],
   "source": [
    "df.describe(include='all')"
   ]
  },
  {
   "cell_type": "code",
   "execution_count": 8,
   "metadata": {
    "ExecuteTime": {
     "end_time": "2020-03-12T11:02:17.962825Z",
     "start_time": "2020-03-12T11:02:17.781927Z"
    }
   },
   "outputs": [
    {
     "name": "stdout",
     "output_type": "stream",
     "text": [
      "(119528, 32)\n",
      "V1\n",
      "119528\n",
      "------\n",
      "V2\n",
      "2\n",
      "------\n",
      "V3\n",
      "13\n",
      "------\n",
      "V4\n",
      "35\n",
      "------\n",
      "V5\n",
      "25\n",
      "------\n",
      "V6\n",
      "3293\n",
      "------\n",
      "V7\n",
      "6290\n",
      "------\n",
      "V8\n",
      "32\n",
      "------\n",
      "V9\n",
      "3251\n",
      "------\n",
      "V10\n",
      "6\n",
      "------\n",
      "V11\n",
      "8\n",
      "------\n",
      "V12\n",
      "1025\n",
      "------\n",
      "V13\n",
      "3\n",
      "------\n",
      "V14\n",
      "6\n",
      "------\n",
      "V15\n",
      "4\n",
      "------\n",
      "V16\n",
      "13487\n",
      "------\n",
      "V17\n",
      "50\n",
      "------\n",
      "V18\n",
      "121\n",
      "------\n",
      "V19\n",
      "109\n",
      "------\n",
      "V20\n",
      "47\n",
      "------\n",
      "V21\n",
      "9901\n",
      "------\n",
      "V22\n",
      "1\n",
      "------\n",
      "V23\n",
      "7273\n",
      "------\n",
      "V24\n",
      "10415\n",
      "------\n",
      "V25\n",
      "8682\n",
      "------\n",
      "V26\n",
      "225\n",
      "------\n",
      "V27\n",
      "247\n",
      "------\n",
      "V28\n",
      "86\n",
      "------\n",
      "V29\n",
      "81\n",
      "------\n",
      "V30\n",
      "46\n",
      "------\n",
      "V31\n",
      "4\n",
      "------\n",
      "V32\n",
      "2\n",
      "------\n"
     ]
    }
   ],
   "source": [
    "print(df.shape)\n",
    "for i in df.columns.values:\n",
    "    print (i)\n",
    "    print (len(df[i].unique()))\n",
    "    print(\"------\")"
   ]
  },
  {
   "cell_type": "code",
   "execution_count": 9,
   "metadata": {
    "ExecuteTime": {
     "end_time": "2020-03-12T11:02:18.060768Z",
     "start_time": "2020-03-12T11:02:17.965824Z"
    }
   },
   "outputs": [
    {
     "data": {
      "text/plain": [
       "V1          0\n",
       "V2          0\n",
       "V3          0\n",
       "V4      34480\n",
       "V5      34480\n",
       "V6      34480\n",
       "V7      34480\n",
       "V8      34480\n",
       "V9      34480\n",
       "V10     34480\n",
       "V11     34480\n",
       "V12     34480\n",
       "V13     34480\n",
       "V14     34480\n",
       "V15     35397\n",
       "V16     34480\n",
       "V17     34480\n",
       "V18         0\n",
       "V19         0\n",
       "V20         0\n",
       "V21     82902\n",
       "V22         0\n",
       "V23    100247\n",
       "V24    100500\n",
       "V25     15061\n",
       "V26    106097\n",
       "V27     99095\n",
       "V28         0\n",
       "V29         0\n",
       "V30         0\n",
       "V31         0\n",
       "V32         0\n",
       "dtype: int64"
      ]
     },
     "execution_count": 9,
     "metadata": {},
     "output_type": "execute_result"
    }
   ],
   "source": [
    "df.isnull().sum()"
   ]
  },
  {
   "cell_type": "markdown",
   "metadata": {},
   "source": [
    "## Imputations"
   ]
  },
  {
   "cell_type": "markdown",
   "metadata": {},
   "source": [
    "### Median Imputations"
   ]
  },
  {
   "cell_type": "code",
   "execution_count": 10,
   "metadata": {
    "ExecuteTime": {
     "end_time": "2020-03-12T11:02:18.202687Z",
     "start_time": "2020-03-12T11:02:18.065765Z"
    }
   },
   "outputs": [],
   "source": [
    "import statistics\n",
    "from statistics import median"
   ]
  },
  {
   "cell_type": "code",
   "execution_count": 11,
   "metadata": {
    "ExecuteTime": {
     "end_time": "2020-03-12T11:02:18.401661Z",
     "start_time": "2020-03-12T11:02:18.206684Z"
    }
   },
   "outputs": [
    {
     "data": {
      "text/plain": [
       "20.0"
      ]
     },
     "execution_count": 11,
     "metadata": {},
     "output_type": "execute_result"
    }
   ],
   "source": [
    "median(df['V4'])"
   ]
  },
  {
   "cell_type": "code",
   "execution_count": 12,
   "metadata": {
    "ExecuteTime": {
     "end_time": "2020-03-12T11:02:18.571561Z",
     "start_time": "2020-03-12T11:02:18.404658Z"
    }
   },
   "outputs": [
    {
     "data": {
      "text/plain": [
       "1.0"
      ]
     },
     "execution_count": 12,
     "metadata": {},
     "output_type": "execute_result"
    }
   ],
   "source": [
    "median(df['V5'])"
   ]
  },
  {
   "cell_type": "code",
   "execution_count": 13,
   "metadata": {
    "ExecuteTime": {
     "end_time": "2020-03-12T11:02:18.780736Z",
     "start_time": "2020-03-12T11:02:18.574559Z"
    }
   },
   "outputs": [
    {
     "data": {
      "text/plain": [
       "2612.0"
      ]
     },
     "execution_count": 13,
     "metadata": {},
     "output_type": "execute_result"
    }
   ],
   "source": [
    "median(df['V6'])"
   ]
  },
  {
   "cell_type": "code",
   "execution_count": 14,
   "metadata": {
    "ExecuteTime": {
     "end_time": "2020-03-12T11:02:18.964661Z",
     "start_time": "2020-03-12T11:02:18.784732Z"
    }
   },
   "outputs": [
    {
     "data": {
      "text/plain": [
       "46900.0"
      ]
     },
     "execution_count": 14,
     "metadata": {},
     "output_type": "execute_result"
    }
   ],
   "source": [
    "median(df['V7'])"
   ]
  },
  {
   "cell_type": "code",
   "execution_count": 15,
   "metadata": {
    "ExecuteTime": {
     "end_time": "2020-03-12T11:02:19.141575Z",
     "start_time": "2020-03-12T11:02:18.967657Z"
    }
   },
   "outputs": [
    {
     "data": {
      "text/plain": [
       "24.0"
      ]
     },
     "execution_count": 15,
     "metadata": {},
     "output_type": "execute_result"
    }
   ],
   "source": [
    "median(df['V8'])"
   ]
  },
  {
   "cell_type": "code",
   "execution_count": 16,
   "metadata": {
    "ExecuteTime": {
     "end_time": "2020-03-12T11:02:19.439773Z",
     "start_time": "2020-03-12T11:02:19.145572Z"
    }
   },
   "outputs": [
    {
     "data": {
      "text/plain": [
       "3578.0"
      ]
     },
     "execution_count": 16,
     "metadata": {},
     "output_type": "execute_result"
    }
   ],
   "source": [
    "median(df['V9'])"
   ]
  },
  {
   "cell_type": "code",
   "execution_count": 17,
   "metadata": {
    "ExecuteTime": {
     "end_time": "2020-03-12T11:02:19.827390Z",
     "start_time": "2020-03-12T11:02:19.442772Z"
    }
   },
   "outputs": [
    {
     "data": {
      "text/plain": [
       "1.0"
      ]
     },
     "execution_count": 17,
     "metadata": {},
     "output_type": "execute_result"
    }
   ],
   "source": [
    "median(df['V11'])"
   ]
  },
  {
   "cell_type": "code",
   "execution_count": 18,
   "metadata": {
    "ExecuteTime": {
     "end_time": "2020-03-12T11:02:20.033298Z",
     "start_time": "2020-03-12T11:02:19.830392Z"
    }
   },
   "outputs": [
    {
     "data": {
      "text/plain": [
       "14.0"
      ]
     },
     "execution_count": 18,
     "metadata": {},
     "output_type": "execute_result"
    }
   ],
   "source": [
    "median(df['V12'])"
   ]
  },
  {
   "cell_type": "code",
   "execution_count": 19,
   "metadata": {
    "ExecuteTime": {
     "end_time": "2020-03-12T11:02:20.227317Z",
     "start_time": "2020-03-12T11:02:20.036276Z"
    }
   },
   "outputs": [
    {
     "data": {
      "text/plain": [
       "43.0"
      ]
     },
     "execution_count": 19,
     "metadata": {},
     "output_type": "execute_result"
    }
   ],
   "source": [
    "median(df['V17'])"
   ]
  },
  {
   "cell_type": "code",
   "execution_count": 20,
   "metadata": {
    "ExecuteTime": {
     "end_time": "2020-03-12T11:02:20.375090Z",
     "start_time": "2020-03-12T11:02:20.230317Z"
    }
   },
   "outputs": [
    {
     "data": {
      "text/plain": [
       "32900.0"
      ]
     },
     "execution_count": 20,
     "metadata": {},
     "output_type": "execute_result"
    }
   ],
   "source": [
    "median(df['V25'])"
   ]
  },
  {
   "cell_type": "code",
   "execution_count": 21,
   "metadata": {
    "ExecuteTime": {
     "end_time": "2020-03-12T11:02:20.534031Z",
     "start_time": "2020-03-12T11:02:20.378085Z"
    }
   },
   "outputs": [],
   "source": [
    "df['V4'].fillna(20.0,inplace=True)"
   ]
  },
  {
   "cell_type": "code",
   "execution_count": 22,
   "metadata": {
    "ExecuteTime": {
     "end_time": "2020-03-12T11:02:20.705251Z",
     "start_time": "2020-03-12T11:02:20.536692Z"
    }
   },
   "outputs": [],
   "source": [
    "df['V5'].fillna(1.0,inplace=True)"
   ]
  },
  {
   "cell_type": "code",
   "execution_count": 23,
   "metadata": {
    "ExecuteTime": {
     "end_time": "2020-03-12T11:02:20.904214Z",
     "start_time": "2020-03-12T11:02:20.708251Z"
    }
   },
   "outputs": [],
   "source": [
    "df['V6'].fillna(2612.0,inplace=True)"
   ]
  },
  {
   "cell_type": "code",
   "execution_count": 24,
   "metadata": {
    "ExecuteTime": {
     "end_time": "2020-03-12T11:02:21.097256Z",
     "start_time": "2020-03-12T11:02:20.907217Z"
    }
   },
   "outputs": [],
   "source": [
    "df['V7'].fillna(46900.0,inplace=True)"
   ]
  },
  {
   "cell_type": "code",
   "execution_count": 25,
   "metadata": {
    "ExecuteTime": {
     "end_time": "2020-03-12T11:02:21.319112Z",
     "start_time": "2020-03-12T11:02:21.104222Z"
    }
   },
   "outputs": [],
   "source": [
    "df['V8'].fillna(24.0,inplace=True)"
   ]
  },
  {
   "cell_type": "code",
   "execution_count": 26,
   "metadata": {
    "ExecuteTime": {
     "end_time": "2020-03-12T11:02:21.630147Z",
     "start_time": "2020-03-12T11:02:21.324079Z"
    }
   },
   "outputs": [],
   "source": [
    "df['V9'].fillna(3578.0,inplace=True)"
   ]
  },
  {
   "cell_type": "code",
   "execution_count": 27,
   "metadata": {
    "ExecuteTime": {
     "end_time": "2020-03-12T11:02:21.774083Z",
     "start_time": "2020-03-12T11:02:21.633143Z"
    }
   },
   "outputs": [],
   "source": [
    "df['V11'].fillna(1.0,inplace=True)"
   ]
  },
  {
   "cell_type": "code",
   "execution_count": 28,
   "metadata": {
    "ExecuteTime": {
     "end_time": "2020-03-12T11:02:21.986069Z",
     "start_time": "2020-03-12T11:02:21.777060Z"
    }
   },
   "outputs": [],
   "source": [
    "df['V12'].fillna(14.0,inplace=True)"
   ]
  },
  {
   "cell_type": "code",
   "execution_count": 29,
   "metadata": {
    "ExecuteTime": {
     "end_time": "2020-03-12T11:02:22.209735Z",
     "start_time": "2020-03-12T11:02:21.989069Z"
    }
   },
   "outputs": [],
   "source": [
    "df['V17'].fillna(43.0,inplace=True)"
   ]
  },
  {
   "cell_type": "code",
   "execution_count": 30,
   "metadata": {
    "ExecuteTime": {
     "end_time": "2020-03-12T11:02:22.415958Z",
     "start_time": "2020-03-12T11:02:22.211974Z"
    }
   },
   "outputs": [],
   "source": [
    "df['V25'].fillna(32900.0,inplace=True)"
   ]
  },
  {
   "cell_type": "markdown",
   "metadata": {},
   "source": [
    "### Mode Imputations"
   ]
  },
  {
   "cell_type": "code",
   "execution_count": 31,
   "metadata": {
    "ExecuteTime": {
     "end_time": "2020-03-12T11:02:22.673982Z",
     "start_time": "2020-03-12T11:02:22.418964Z"
    }
   },
   "outputs": [],
   "source": [
    "statistics.mode(df['V10'])"
   ]
  },
  {
   "cell_type": "code",
   "execution_count": 32,
   "metadata": {
    "ExecuteTime": {
     "end_time": "2020-03-12T11:02:22.852875Z",
     "start_time": "2020-03-12T11:02:22.675979Z"
    }
   },
   "outputs": [
    {
     "data": {
      "text/plain": [
       "'MALE'"
      ]
     },
     "execution_count": 32,
     "metadata": {},
     "output_type": "execute_result"
    }
   ],
   "source": [
    "statistics.mode(df['V13'])"
   ]
  },
  {
   "cell_type": "code",
   "execution_count": 33,
   "metadata": {
    "ExecuteTime": {
     "end_time": "2020-03-12T11:02:23.060779Z",
     "start_time": "2020-03-12T11:02:22.855875Z"
    }
   },
   "outputs": [
    {
     "data": {
      "text/plain": [
       "'SELF'"
      ]
     },
     "execution_count": 33,
     "metadata": {},
     "output_type": "execute_result"
    }
   ],
   "source": [
    "statistics.mode(df['V14'])"
   ]
  },
  {
   "cell_type": "code",
   "execution_count": 34,
   "metadata": {
    "ExecuteTime": {
     "end_time": "2020-03-12T11:02:23.184917Z",
     "start_time": "2020-03-12T11:02:23.063775Z"
    }
   },
   "outputs": [
    {
     "data": {
      "text/plain": [
       "'OWNED'"
      ]
     },
     "execution_count": 34,
     "metadata": {},
     "output_type": "execute_result"
    }
   ],
   "source": [
    "statistics.mode(df['V15'])"
   ]
  },
  {
   "cell_type": "code",
   "execution_count": 35,
   "metadata": {
    "ExecuteTime": {
     "end_time": "2020-03-12T11:02:23.278196Z",
     "start_time": "2020-03-12T11:02:23.187897Z"
    }
   },
   "outputs": [],
   "source": [
    "df['V10'].fillna('SC',inplace=True)"
   ]
  },
  {
   "cell_type": "code",
   "execution_count": 36,
   "metadata": {
    "ExecuteTime": {
     "end_time": "2020-03-12T11:02:23.378999Z",
     "start_time": "2020-03-12T11:02:23.281125Z"
    }
   },
   "outputs": [],
   "source": [
    "df['V13'].fillna('MALE',inplace=True)"
   ]
  },
  {
   "cell_type": "code",
   "execution_count": 37,
   "metadata": {
    "ExecuteTime": {
     "end_time": "2020-03-12T11:02:23.482161Z",
     "start_time": "2020-03-12T11:02:23.381980Z"
    }
   },
   "outputs": [],
   "source": [
    "df['V14'].fillna('SELF',inplace=True)"
   ]
  },
  {
   "cell_type": "code",
   "execution_count": 38,
   "metadata": {
    "ExecuteTime": {
     "end_time": "2020-03-12T11:02:23.595326Z",
     "start_time": "2020-03-12T11:02:23.485145Z"
    }
   },
   "outputs": [],
   "source": [
    "df['V15'].fillna('OWNED',inplace=True)"
   ]
  },
  {
   "cell_type": "markdown",
   "metadata": {},
   "source": [
    "Dropping the variables that have >50% NaN values in them"
   ]
  },
  {
   "cell_type": "code",
   "execution_count": 39,
   "metadata": {
    "ExecuteTime": {
     "end_time": "2020-03-12T11:02:23.737330Z",
     "start_time": "2020-03-12T11:02:23.598326Z"
    }
   },
   "outputs": [],
   "source": [
    "df=df.drop(columns=['V21','V23','V24','V26','V27'])"
   ]
  },
  {
   "cell_type": "markdown",
   "metadata": {},
   "source": [
    "Dropping the variable 'V16', it is Date of Birth and we already have a variable that have age"
   ]
  },
  {
   "cell_type": "code",
   "execution_count": 40,
   "metadata": {
    "ExecuteTime": {
     "end_time": "2020-03-12T11:02:23.930586Z",
     "start_time": "2020-03-12T11:02:23.741327Z"
    }
   },
   "outputs": [],
   "source": [
    "df=df.drop(columns=['V16'])"
   ]
  },
  {
   "cell_type": "markdown",
   "metadata": {},
   "source": [
    "## Visaulization"
   ]
  },
  {
   "cell_type": "code",
   "execution_count": 41,
   "metadata": {
    "ExecuteTime": {
     "end_time": "2020-03-12T11:02:24.210429Z",
     "start_time": "2020-03-12T11:02:23.933585Z"
    }
   },
   "outputs": [
    {
     "data": {
      "image/png": "[encoded data removed]",
      "text/plain": [
       "<Figure size 432x288 with 1 Axes>"
      ]
     },
     "metadata": {
      "needs_background": "light"
     },
     "output_type": "display_data"
    }
   ],
   "source": [
    "sns.countplot(x='V32',data=df);"
   ]
  },
  {
   "cell_type": "code",
   "execution_count": 42,
   "metadata": {
    "ExecuteTime": {
     "end_time": "2020-03-12T11:02:24.462283Z",
     "start_time": "2020-03-12T11:02:24.214425Z"
    }
   },
   "outputs": [
    {
     "data": {
      "image/png": "[encoded data removed]",
      "text/plain": [
       "<Figure size 432x288 with 1 Axes>"
      ]
     },
     "metadata": {
      "needs_background": "light"
     },
     "output_type": "display_data"
    }
   ],
   "source": [
    "ax=sns.countplot(x='V32',hue='V13', data=df);"
   ]
  },
  {
   "cell_type": "code",
   "execution_count": 43,
   "metadata": {
    "ExecuteTime": {
     "end_time": "2020-03-12T11:02:25.242835Z",
     "start_time": "2020-03-12T11:02:24.464281Z"
    }
   },
   "outputs": [
    {
     "data": {
      "image/png": "[encoded data removed]",
      "text/plain": [
       "<Figure size 472.075x288 with 2 Axes>"
      ]
     },
     "metadata": {
      "needs_background": "light"
     },
     "output_type": "display_data"
    }
   ],
   "source": [
    "g=sns.catplot(x='V32',hue='V10',col='V13',\n",
    "                data=df,kind='count',\n",
    "                height=4,aspect=.7);"
   ]
  },
  {
   "cell_type": "code",
   "execution_count": 44,
   "metadata": {
    "ExecuteTime": {
     "end_time": "2020-03-12T11:02:26.081357Z",
     "start_time": "2020-03-12T11:02:25.245836Z"
    }
   },
   "outputs": [
    {
     "data": {
      "image/png": "[encoded data removed]",
      "text/plain": [
       "<Figure size 499.075x288 with 2 Axes>"
      ]
     },
     "metadata": {
      "needs_background": "light"
     },
     "output_type": "display_data"
    }
   ],
   "source": [
    "g=sns.catplot(x='V32',hue='V14',col='V13',\n",
    "                data=df,kind='count',\n",
    "                height=4,aspect=.7);"
   ]
  },
  {
   "cell_type": "code",
   "execution_count": 45,
   "metadata": {
    "ExecuteTime": {
     "end_time": "2020-03-12T11:02:26.933883Z",
     "start_time": "2020-03-12T11:02:26.084354Z"
    }
   },
   "outputs": [
    {
     "data": {
      "image/png": "[encoded data removed]",
      "text/plain": [
       "<Figure size 680.05x288 with 3 Axes>"
      ]
     },
     "metadata": {
      "needs_background": "light"
     },
     "output_type": "display_data"
    }
   ],
   "source": [
    "g=sns.catplot(x='V32',hue='V13',col='V15',\n",
    "                data=df,kind='count',\n",
    "                height=4,aspect=.7);"
   ]
  },
  {
   "cell_type": "code",
   "execution_count": 46,
   "metadata": {
    "ExecuteTime": {
     "end_time": "2020-03-12T11:02:27.809529Z",
     "start_time": "2020-03-12T11:02:26.936880Z"
    }
   },
   "outputs": [
    {
     "data": {
      "image/png": "[encoded data removed]",
      "text/plain": [
       "<Figure size 1440x720 with 1 Axes>"
      ]
     },
     "metadata": {
      "needs_background": "light"
     },
     "output_type": "display_data"
    }
   ],
   "source": [
    "f,ax=plt.subplots(figsize=(20,10))\n",
    "sns.distplot(df['V3']);"
   ]
  },
  {
   "cell_type": "code",
   "execution_count": 47,
   "metadata": {
    "ExecuteTime": {
     "end_time": "2020-03-12T11:02:28.094367Z",
     "start_time": "2020-03-12T11:02:27.817524Z"
    },
    "scrolled": false
   },
   "outputs": [
    {
     "data": {
      "text/html": [
       "<div>\n",
       "<style scoped>\n",
       "    .dataframe tbody tr th:only-of-type {\n",
       "        vertical-align: middle;\n",
       "    }\n",
       "\n",
       "    .dataframe tbody tr th {\n",
       "        vertical-align: top;\n",
       "    }\n",
       "\n",
       "    .dataframe thead th {\n",
       "        text-align: right;\n",
       "    }\n",
       "</style>\n",
       "<table border=\"1\" class=\"dataframe\">\n",
       "  <thead>\n",
       "    <tr style=\"text-align: right;\">\n",
       "      <th></th>\n",
       "      <th>V1</th>\n",
       "      <th>V2</th>\n",
       "      <th>V3</th>\n",
       "      <th>V4</th>\n",
       "      <th>V5</th>\n",
       "      <th>V6</th>\n",
       "      <th>V7</th>\n",
       "      <th>V8</th>\n",
       "      <th>V9</th>\n",
       "      <th>V11</th>\n",
       "      <th>...</th>\n",
       "      <th>V17</th>\n",
       "      <th>V18</th>\n",
       "      <th>V19</th>\n",
       "      <th>V20</th>\n",
       "      <th>V22</th>\n",
       "      <th>V25</th>\n",
       "      <th>V28</th>\n",
       "      <th>V29</th>\n",
       "      <th>V30</th>\n",
       "      <th>V32</th>\n",
       "    </tr>\n",
       "  </thead>\n",
       "  <tbody>\n",
       "    <tr>\n",
       "      <td>V1</td>\n",
       "      <td>1.000000</td>\n",
       "      <td>-0.005780</td>\n",
       "      <td>-0.060434</td>\n",
       "      <td>-0.124730</td>\n",
       "      <td>0.008355</td>\n",
       "      <td>0.338458</td>\n",
       "      <td>0.195901</td>\n",
       "      <td>-0.047896</td>\n",
       "      <td>0.170557</td>\n",
       "      <td>0.115172</td>\n",
       "      <td>...</td>\n",
       "      <td>0.260612</td>\n",
       "      <td>-0.015868</td>\n",
       "      <td>-0.017580</td>\n",
       "      <td>-0.003505</td>\n",
       "      <td>NaN</td>\n",
       "      <td>-0.056759</td>\n",
       "      <td>-0.056879</td>\n",
       "      <td>-0.052735</td>\n",
       "      <td>-0.048742</td>\n",
       "      <td>-0.005902</td>\n",
       "    </tr>\n",
       "    <tr>\n",
       "      <td>V2</td>\n",
       "      <td>-0.005780</td>\n",
       "      <td>1.000000</td>\n",
       "      <td>0.045418</td>\n",
       "      <td>0.009549</td>\n",
       "      <td>0.154280</td>\n",
       "      <td>0.005549</td>\n",
       "      <td>0.000574</td>\n",
       "      <td>-0.008923</td>\n",
       "      <td>0.010513</td>\n",
       "      <td>0.001716</td>\n",
       "      <td>...</td>\n",
       "      <td>-0.017801</td>\n",
       "      <td>-0.007935</td>\n",
       "      <td>-0.006545</td>\n",
       "      <td>-0.001806</td>\n",
       "      <td>NaN</td>\n",
       "      <td>0.006822</td>\n",
       "      <td>0.005489</td>\n",
       "      <td>0.002478</td>\n",
       "      <td>0.001026</td>\n",
       "      <td>0.012339</td>\n",
       "    </tr>\n",
       "    <tr>\n",
       "      <td>V3</td>\n",
       "      <td>-0.060434</td>\n",
       "      <td>0.045418</td>\n",
       "      <td>1.000000</td>\n",
       "      <td>0.056462</td>\n",
       "      <td>0.700578</td>\n",
       "      <td>-0.038695</td>\n",
       "      <td>-0.041610</td>\n",
       "      <td>-0.004095</td>\n",
       "      <td>-0.034665</td>\n",
       "      <td>0.018078</td>\n",
       "      <td>...</td>\n",
       "      <td>-0.015225</td>\n",
       "      <td>-0.041178</td>\n",
       "      <td>-0.018175</td>\n",
       "      <td>-0.073137</td>\n",
       "      <td>NaN</td>\n",
       "      <td>-0.055123</td>\n",
       "      <td>0.031735</td>\n",
       "      <td>0.028040</td>\n",
       "      <td>0.022757</td>\n",
       "      <td>0.071078</td>\n",
       "    </tr>\n",
       "    <tr>\n",
       "      <td>V4</td>\n",
       "      <td>-0.124730</td>\n",
       "      <td>0.009549</td>\n",
       "      <td>0.056462</td>\n",
       "      <td>1.000000</td>\n",
       "      <td>0.238198</td>\n",
       "      <td>-0.233197</td>\n",
       "      <td>0.404012</td>\n",
       "      <td>0.872380</td>\n",
       "      <td>-0.138555</td>\n",
       "      <td>-0.000695</td>\n",
       "      <td>...</td>\n",
       "      <td>0.039756</td>\n",
       "      <td>0.012076</td>\n",
       "      <td>0.003338</td>\n",
       "      <td>0.029604</td>\n",
       "      <td>NaN</td>\n",
       "      <td>0.222690</td>\n",
       "      <td>0.017726</td>\n",
       "      <td>0.014966</td>\n",
       "      <td>0.012603</td>\n",
       "      <td>0.012776</td>\n",
       "    </tr>\n",
       "    <tr>\n",
       "      <td>V5</td>\n",
       "      <td>0.008355</td>\n",
       "      <td>0.154280</td>\n",
       "      <td>0.700578</td>\n",
       "      <td>0.238198</td>\n",
       "      <td>1.000000</td>\n",
       "      <td>-0.030196</td>\n",
       "      <td>0.061655</td>\n",
       "      <td>0.142976</td>\n",
       "      <td>-0.057109</td>\n",
       "      <td>0.041048</td>\n",
       "      <td>...</td>\n",
       "      <td>0.013868</td>\n",
       "      <td>-0.030902</td>\n",
       "      <td>-0.014634</td>\n",
       "      <td>-0.052468</td>\n",
       "      <td>NaN</td>\n",
       "      <td>-0.000807</td>\n",
       "      <td>0.027119</td>\n",
       "      <td>0.023256</td>\n",
       "      <td>0.018570</td>\n",
       "      <td>0.057728</td>\n",
       "    </tr>\n",
       "    <tr>\n",
       "      <td>V6</td>\n",
       "      <td>0.338458</td>\n",
       "      <td>0.005549</td>\n",
       "      <td>-0.038695</td>\n",
       "      <td>-0.233197</td>\n",
       "      <td>-0.030196</td>\n",
       "      <td>1.000000</td>\n",
       "      <td>0.666718</td>\n",
       "      <td>-0.221860</td>\n",
       "      <td>0.023858</td>\n",
       "      <td>0.091433</td>\n",
       "      <td>...</td>\n",
       "      <td>-0.052797</td>\n",
       "      <td>0.062759</td>\n",
       "      <td>0.034646</td>\n",
       "      <td>0.097166</td>\n",
       "      <td>NaN</td>\n",
       "      <td>0.380167</td>\n",
       "      <td>0.020733</td>\n",
       "      <td>0.016350</td>\n",
       "      <td>0.012108</td>\n",
       "      <td>0.001411</td>\n",
       "    </tr>\n",
       "    <tr>\n",
       "      <td>V7</td>\n",
       "      <td>0.195901</td>\n",
       "      <td>0.000574</td>\n",
       "      <td>-0.041610</td>\n",
       "      <td>0.404012</td>\n",
       "      <td>0.061655</td>\n",
       "      <td>0.666718</td>\n",
       "      <td>1.000000</td>\n",
       "      <td>0.529978</td>\n",
       "      <td>-0.105943</td>\n",
       "      <td>0.249225</td>\n",
       "      <td>...</td>\n",
       "      <td>-0.058157</td>\n",
       "      <td>0.094821</td>\n",
       "      <td>0.049360</td>\n",
       "      <td>0.148873</td>\n",
       "      <td>NaN</td>\n",
       "      <td>0.606923</td>\n",
       "      <td>0.039638</td>\n",
       "      <td>0.031461</td>\n",
       "      <td>0.026347</td>\n",
       "      <td>0.013947</td>\n",
       "    </tr>\n",
       "    <tr>\n",
       "      <td>V8</td>\n",
       "      <td>-0.047896</td>\n",
       "      <td>-0.008923</td>\n",
       "      <td>-0.004095</td>\n",
       "      <td>0.872380</td>\n",
       "      <td>0.142976</td>\n",
       "      <td>-0.221860</td>\n",
       "      <td>0.529978</td>\n",
       "      <td>1.000000</td>\n",
       "      <td>-0.154686</td>\n",
       "      <td>0.125878</td>\n",
       "      <td>...</td>\n",
       "      <td>0.034163</td>\n",
       "      <td>0.043484</td>\n",
       "      <td>0.019984</td>\n",
       "      <td>0.069249</td>\n",
       "      <td>NaN</td>\n",
       "      <td>0.310187</td>\n",
       "      <td>0.021802</td>\n",
       "      <td>0.017316</td>\n",
       "      <td>0.015529</td>\n",
       "      <td>0.015655</td>\n",
       "    </tr>\n",
       "    <tr>\n",
       "      <td>V9</td>\n",
       "      <td>0.170557</td>\n",
       "      <td>0.010513</td>\n",
       "      <td>-0.034665</td>\n",
       "      <td>-0.138555</td>\n",
       "      <td>-0.057109</td>\n",
       "      <td>0.023858</td>\n",
       "      <td>-0.105943</td>\n",
       "      <td>-0.154686</td>\n",
       "      <td>1.000000</td>\n",
       "      <td>-0.120670</td>\n",
       "      <td>...</td>\n",
       "      <td>-0.006391</td>\n",
       "      <td>-0.084486</td>\n",
       "      <td>-0.068530</td>\n",
       "      <td>-0.050270</td>\n",
       "      <td>NaN</td>\n",
       "      <td>-0.081406</td>\n",
       "      <td>-0.054707</td>\n",
       "      <td>-0.050169</td>\n",
       "      <td>-0.046424</td>\n",
       "      <td>0.002697</td>\n",
       "    </tr>\n",
       "    <tr>\n",
       "      <td>V11</td>\n",
       "      <td>0.115172</td>\n",
       "      <td>0.001716</td>\n",
       "      <td>0.018078</td>\n",
       "      <td>-0.000695</td>\n",
       "      <td>0.041048</td>\n",
       "      <td>0.091433</td>\n",
       "      <td>0.249225</td>\n",
       "      <td>0.125878</td>\n",
       "      <td>-0.120670</td>\n",
       "      <td>1.000000</td>\n",
       "      <td>...</td>\n",
       "      <td>0.048128</td>\n",
       "      <td>0.037903</td>\n",
       "      <td>0.032184</td>\n",
       "      <td>0.004853</td>\n",
       "      <td>NaN</td>\n",
       "      <td>0.129150</td>\n",
       "      <td>0.020190</td>\n",
       "      <td>0.017773</td>\n",
       "      <td>0.015294</td>\n",
       "      <td>-0.006435</td>\n",
       "    </tr>\n",
       "    <tr>\n",
       "      <td>V12</td>\n",
       "      <td>0.124705</td>\n",
       "      <td>-0.008634</td>\n",
       "      <td>0.081646</td>\n",
       "      <td>0.475783</td>\n",
       "      <td>0.175448</td>\n",
       "      <td>-0.235587</td>\n",
       "      <td>0.045753</td>\n",
       "      <td>0.457253</td>\n",
       "      <td>0.043819</td>\n",
       "      <td>-0.256142</td>\n",
       "      <td>...</td>\n",
       "      <td>0.159514</td>\n",
       "      <td>-0.067269</td>\n",
       "      <td>-0.045039</td>\n",
       "      <td>-0.084561</td>\n",
       "      <td>NaN</td>\n",
       "      <td>-0.056670</td>\n",
       "      <td>-0.029659</td>\n",
       "      <td>-0.025474</td>\n",
       "      <td>-0.022607</td>\n",
       "      <td>0.004608</td>\n",
       "    </tr>\n",
       "    <tr>\n",
       "      <td>V17</td>\n",
       "      <td>0.260612</td>\n",
       "      <td>-0.017801</td>\n",
       "      <td>-0.015225</td>\n",
       "      <td>0.039756</td>\n",
       "      <td>0.013868</td>\n",
       "      <td>-0.052797</td>\n",
       "      <td>-0.058157</td>\n",
       "      <td>0.034163</td>\n",
       "      <td>-0.006391</td>\n",
       "      <td>0.048128</td>\n",
       "      <td>...</td>\n",
       "      <td>1.000000</td>\n",
       "      <td>0.035595</td>\n",
       "      <td>0.030663</td>\n",
       "      <td>-0.009102</td>\n",
       "      <td>NaN</td>\n",
       "      <td>-0.122279</td>\n",
       "      <td>0.008652</td>\n",
       "      <td>0.014566</td>\n",
       "      <td>0.016769</td>\n",
       "      <td>-0.032644</td>\n",
       "    </tr>\n",
       "    <tr>\n",
       "      <td>V18</td>\n",
       "      <td>-0.015868</td>\n",
       "      <td>-0.007935</td>\n",
       "      <td>-0.041178</td>\n",
       "      <td>0.012076</td>\n",
       "      <td>-0.030902</td>\n",
       "      <td>0.062759</td>\n",
       "      <td>0.094821</td>\n",
       "      <td>0.043484</td>\n",
       "      <td>-0.084486</td>\n",
       "      <td>0.037903</td>\n",
       "      <td>...</td>\n",
       "      <td>0.035595</td>\n",
       "      <td>1.000000</td>\n",
       "      <td>0.891164</td>\n",
       "      <td>0.511462</td>\n",
       "      <td>NaN</td>\n",
       "      <td>0.180194</td>\n",
       "      <td>0.429093</td>\n",
       "      <td>0.360532</td>\n",
       "      <td>0.301035</td>\n",
       "      <td>-0.005143</td>\n",
       "    </tr>\n",
       "    <tr>\n",
       "      <td>V19</td>\n",
       "      <td>-0.017580</td>\n",
       "      <td>-0.006545</td>\n",
       "      <td>-0.018175</td>\n",
       "      <td>0.003338</td>\n",
       "      <td>-0.014634</td>\n",
       "      <td>0.034646</td>\n",
       "      <td>0.049360</td>\n",
       "      <td>0.019984</td>\n",
       "      <td>-0.068530</td>\n",
       "      <td>0.032184</td>\n",
       "      <td>...</td>\n",
       "      <td>0.030663</td>\n",
       "      <td>0.891164</td>\n",
       "      <td>1.000000</td>\n",
       "      <td>0.158376</td>\n",
       "      <td>NaN</td>\n",
       "      <td>0.107830</td>\n",
       "      <td>0.378088</td>\n",
       "      <td>0.297008</td>\n",
       "      <td>0.226501</td>\n",
       "      <td>-0.007316</td>\n",
       "    </tr>\n",
       "    <tr>\n",
       "      <td>V20</td>\n",
       "      <td>-0.003505</td>\n",
       "      <td>-0.001806</td>\n",
       "      <td>-0.073137</td>\n",
       "      <td>0.029604</td>\n",
       "      <td>-0.052468</td>\n",
       "      <td>0.097166</td>\n",
       "      <td>0.148873</td>\n",
       "      <td>0.069249</td>\n",
       "      <td>-0.050270</td>\n",
       "      <td>0.004853</td>\n",
       "      <td>...</td>\n",
       "      <td>-0.009102</td>\n",
       "      <td>0.511462</td>\n",
       "      <td>0.158376</td>\n",
       "      <td>1.000000</td>\n",
       "      <td>NaN</td>\n",
       "      <td>0.243729</td>\n",
       "      <td>0.242240</td>\n",
       "      <td>0.227597</td>\n",
       "      <td>0.218215</td>\n",
       "      <td>0.010047</td>\n",
       "    </tr>\n",
       "    <tr>\n",
       "      <td>V22</td>\n",
       "      <td>NaN</td>\n",
       "      <td>NaN</td>\n",
       "      <td>NaN</td>\n",
       "      <td>NaN</td>\n",
       "      <td>NaN</td>\n",
       "      <td>NaN</td>\n",
       "      <td>NaN</td>\n",
       "      <td>NaN</td>\n",
       "      <td>NaN</td>\n",
       "      <td>NaN</td>\n",
       "      <td>...</td>\n",
       "      <td>NaN</td>\n",
       "      <td>NaN</td>\n",
       "      <td>NaN</td>\n",
       "      <td>NaN</td>\n",
       "      <td>NaN</td>\n",
       "      <td>NaN</td>\n",
       "      <td>NaN</td>\n",
       "      <td>NaN</td>\n",
       "      <td>NaN</td>\n",
       "      <td>NaN</td>\n",
       "    </tr>\n",
       "    <tr>\n",
       "      <td>V25</td>\n",
       "      <td>-0.056759</td>\n",
       "      <td>0.006822</td>\n",
       "      <td>-0.055123</td>\n",
       "      <td>0.222690</td>\n",
       "      <td>-0.000807</td>\n",
       "      <td>0.380167</td>\n",
       "      <td>0.606923</td>\n",
       "      <td>0.310187</td>\n",
       "      <td>-0.081406</td>\n",
       "      <td>0.129150</td>\n",
       "      <td>...</td>\n",
       "      <td>-0.122279</td>\n",
       "      <td>0.180194</td>\n",
       "      <td>0.107830</td>\n",
       "      <td>0.243729</td>\n",
       "      <td>NaN</td>\n",
       "      <td>1.000000</td>\n",
       "      <td>0.085291</td>\n",
       "      <td>0.071299</td>\n",
       "      <td>0.063608</td>\n",
       "      <td>0.013564</td>\n",
       "    </tr>\n",
       "    <tr>\n",
       "      <td>V28</td>\n",
       "      <td>-0.056879</td>\n",
       "      <td>0.005489</td>\n",
       "      <td>0.031735</td>\n",
       "      <td>0.017726</td>\n",
       "      <td>0.027119</td>\n",
       "      <td>0.020733</td>\n",
       "      <td>0.039638</td>\n",
       "      <td>0.021802</td>\n",
       "      <td>-0.054707</td>\n",
       "      <td>0.020190</td>\n",
       "      <td>...</td>\n",
       "      <td>0.008652</td>\n",
       "      <td>0.429093</td>\n",
       "      <td>0.378088</td>\n",
       "      <td>0.242240</td>\n",
       "      <td>NaN</td>\n",
       "      <td>0.085291</td>\n",
       "      <td>1.000000</td>\n",
       "      <td>0.965922</td>\n",
       "      <td>0.898141</td>\n",
       "      <td>0.142721</td>\n",
       "    </tr>\n",
       "    <tr>\n",
       "      <td>V29</td>\n",
       "      <td>-0.052735</td>\n",
       "      <td>0.002478</td>\n",
       "      <td>0.028040</td>\n",
       "      <td>0.014966</td>\n",
       "      <td>0.023256</td>\n",
       "      <td>0.016350</td>\n",
       "      <td>0.031461</td>\n",
       "      <td>0.017316</td>\n",
       "      <td>-0.050169</td>\n",
       "      <td>0.017773</td>\n",
       "      <td>...</td>\n",
       "      <td>0.014566</td>\n",
       "      <td>0.360532</td>\n",
       "      <td>0.297008</td>\n",
       "      <td>0.227597</td>\n",
       "      <td>NaN</td>\n",
       "      <td>0.071299</td>\n",
       "      <td>0.965922</td>\n",
       "      <td>1.000000</td>\n",
       "      <td>0.956278</td>\n",
       "      <td>0.133875</td>\n",
       "    </tr>\n",
       "    <tr>\n",
       "      <td>V30</td>\n",
       "      <td>-0.048742</td>\n",
       "      <td>0.001026</td>\n",
       "      <td>0.022757</td>\n",
       "      <td>0.012603</td>\n",
       "      <td>0.018570</td>\n",
       "      <td>0.012108</td>\n",
       "      <td>0.026347</td>\n",
       "      <td>0.015529</td>\n",
       "      <td>-0.046424</td>\n",
       "      <td>0.015294</td>\n",
       "      <td>...</td>\n",
       "      <td>0.016769</td>\n",
       "      <td>0.301035</td>\n",
       "      <td>0.226501</td>\n",
       "      <td>0.218215</td>\n",
       "      <td>NaN</td>\n",
       "      <td>0.063608</td>\n",
       "      <td>0.898141</td>\n",
       "      <td>0.956278</td>\n",
       "      <td>1.000000</td>\n",
       "      <td>0.116962</td>\n",
       "    </tr>\n",
       "    <tr>\n",
       "      <td>V32</td>\n",
       "      <td>-0.005902</td>\n",
       "      <td>0.012339</td>\n",
       "      <td>0.071078</td>\n",
       "      <td>0.012776</td>\n",
       "      <td>0.057728</td>\n",
       "      <td>0.001411</td>\n",
       "      <td>0.013947</td>\n",
       "      <td>0.015655</td>\n",
       "      <td>0.002697</td>\n",
       "      <td>-0.006435</td>\n",
       "      <td>...</td>\n",
       "      <td>-0.032644</td>\n",
       "      <td>-0.005143</td>\n",
       "      <td>-0.007316</td>\n",
       "      <td>0.010047</td>\n",
       "      <td>NaN</td>\n",
       "      <td>0.013564</td>\n",
       "      <td>0.142721</td>\n",
       "      <td>0.133875</td>\n",
       "      <td>0.116962</td>\n",
       "      <td>1.000000</td>\n",
       "    </tr>\n",
       "  </tbody>\n",
       "</table>\n",
       "<p>21 rows × 21 columns</p>\n",
       "</div>"
      ],
      "text/plain": [
       "           V1        V2        V3        V4        V5        V6        V7  \\\n",
       "V1   1.000000 -0.005780 -0.060434 -0.124730  0.008355  0.338458  0.195901   \n",
       "V2  -0.005780  1.000000  0.045418  0.009549  0.154280  0.005549  0.000574   \n",
       "V3  -0.060434  0.045418  1.000000  0.056462  0.700578 -0.038695 -0.041610   \n",
       "V4  -0.124730  0.009549  0.056462  1.000000  0.238198 -0.233197  0.404012   \n",
       "V5   0.008355  0.154280  0.700578  0.238198  1.000000 -0.030196  0.061655   \n",
       "V6   0.338458  0.005549 -0.038695 -0.233197 -0.030196  1.000000  0.666718   \n",
       "V7   0.195901  0.000574 -0.041610  0.404012  0.061655  0.666718  1.000000   \n",
       "V8  -0.047896 -0.008923 -0.004095  0.872380  0.142976 -0.221860  0.529978   \n",
       "V9   0.170557  0.010513 -0.034665 -0.138555 -0.057109  0.023858 -0.105943   \n",
       "V11  0.115172  0.001716  0.018078 -0.000695  0.041048  0.091433  0.249225   \n",
       "V12  0.124705 -0.008634  0.081646  0.475783  0.175448 -0.235587  0.045753   \n",
       "V17  0.260612 -0.017801 -0.015225  0.039756  0.013868 -0.052797 -0.058157   \n",
       "V18 -0.015868 -0.007935 -0.041178  0.012076 -0.030902  0.062759  0.094821   \n",
       "V19 -0.017580 -0.006545 -0.018175  0.003338 -0.014634  0.034646  0.049360   \n",
       "V20 -0.003505 -0.001806 -0.073137  0.029604 -0.052468  0.097166  0.148873   \n",
       "V22       NaN       NaN       NaN       NaN       NaN       NaN       NaN   \n",
       "V25 -0.056759  0.006822 -0.055123  0.222690 -0.000807  0.380167  0.606923   \n",
       "V28 -0.056879  0.005489  0.031735  0.017726  0.027119  0.020733  0.039638   \n",
       "V29 -0.052735  0.002478  0.028040  0.014966  0.023256  0.016350  0.031461   \n",
       "V30 -0.048742  0.001026  0.022757  0.012603  0.018570  0.012108  0.026347   \n",
       "V32 -0.005902  0.012339  0.071078  0.012776  0.057728  0.001411  0.013947   \n",
       "\n",
       "           V8        V9       V11  ...       V17       V18       V19  \\\n",
       "V1  -0.047896  0.170557  0.115172  ...  0.260612 -0.015868 -0.017580   \n",
       "V2  -0.008923  0.010513  0.001716  ... -0.017801 -0.007935 -0.006545   \n",
       "V3  -0.004095 -0.034665  0.018078  ... -0.015225 -0.041178 -0.018175   \n",
       "V4   0.872380 -0.138555 -0.000695  ...  0.039756  0.012076  0.003338   \n",
       "V5   0.142976 -0.057109  0.041048  ...  0.013868 -0.030902 -0.014634   \n",
       "V6  -0.221860  0.023858  0.091433  ... -0.052797  0.062759  0.034646   \n",
       "V7   0.529978 -0.105943  0.249225  ... -0.058157  0.094821  0.049360   \n",
       "V8   1.000000 -0.154686  0.125878  ...  0.034163  0.043484  0.019984   \n",
       "V9  -0.154686  1.000000 -0.120670  ... -0.006391 -0.084486 -0.068530   \n",
       "V11  0.125878 -0.120670  1.000000  ...  0.048128  0.037903  0.032184   \n",
       "V12  0.457253  0.043819 -0.256142  ...  0.159514 -0.067269 -0.045039   \n",
       "V17  0.034163 -0.006391  0.048128  ...  1.000000  0.035595  0.030663   \n",
       "V18  0.043484 -0.084486  0.037903  ...  0.035595  1.000000  0.891164   \n",
       "V19  0.019984 -0.068530  0.032184  ...  0.030663  0.891164  1.000000   \n",
       "V20  0.069249 -0.050270  0.004853  ... -0.009102  0.511462  0.158376   \n",
       "V22       NaN       NaN       NaN  ...       NaN       NaN       NaN   \n",
       "V25  0.310187 -0.081406  0.129150  ... -0.122279  0.180194  0.107830   \n",
       "V28  0.021802 -0.054707  0.020190  ...  0.008652  0.429093  0.378088   \n",
       "V29  0.017316 -0.050169  0.017773  ...  0.014566  0.360532  0.297008   \n",
       "V30  0.015529 -0.046424  0.015294  ...  0.016769  0.301035  0.226501   \n",
       "V32  0.015655  0.002697 -0.006435  ... -0.032644 -0.005143 -0.007316   \n",
       "\n",
       "          V20  V22       V25       V28       V29       V30       V32  \n",
       "V1  -0.003505  NaN -0.056759 -0.056879 -0.052735 -0.048742 -0.005902  \n",
       "V2  -0.001806  NaN  0.006822  0.005489  0.002478  0.001026  0.012339  \n",
       "V3  -0.073137  NaN -0.055123  0.031735  0.028040  0.022757  0.071078  \n",
       "V4   0.029604  NaN  0.222690  0.017726  0.014966  0.012603  0.012776  \n",
       "V5  -0.052468  NaN -0.000807  0.027119  0.023256  0.018570  0.057728  \n",
       "V6   0.097166  NaN  0.380167  0.020733  0.016350  0.012108  0.001411  \n",
       "V7   0.148873  NaN  0.606923  0.039638  0.031461  0.026347  0.013947  \n",
       "V8   0.069249  NaN  0.310187  0.021802  0.017316  0.015529  0.015655  \n",
       "V9  -0.050270  NaN -0.081406 -0.054707 -0.050169 -0.046424  0.002697  \n",
       "V11  0.004853  NaN  0.129150  0.020190  0.017773  0.015294 -0.006435  \n",
       "V12 -0.084561  NaN -0.056670 -0.029659 -0.025474 -0.022607  0.004608  \n",
       "V17 -0.009102  NaN -0.122279  0.008652  0.014566  0.016769 -0.032644  \n",
       "V18  0.511462  NaN  0.180194  0.429093  0.360532  0.301035 -0.005143  \n",
       "V19  0.158376  NaN  0.107830  0.378088  0.297008  0.226501 -0.007316  \n",
       "V20  1.000000  NaN  0.243729  0.242240  0.227597  0.218215  0.010047  \n",
       "V22       NaN  NaN       NaN       NaN       NaN       NaN       NaN  \n",
       "V25  0.243729  NaN  1.000000  0.085291  0.071299  0.063608  0.013564  \n",
       "V28  0.242240  NaN  0.085291  1.000000  0.965922  0.898141  0.142721  \n",
       "V29  0.227597  NaN  0.071299  0.965922  1.000000  0.956278  0.133875  \n",
       "V30  0.218215  NaN  0.063608  0.898141  0.956278  1.000000  0.116962  \n",
       "V32  0.010047  NaN  0.013564  0.142721  0.133875  0.116962  1.000000  \n",
       "\n",
       "[21 rows x 21 columns]"
      ]
     },
     "execution_count": 47,
     "metadata": {},
     "output_type": "execute_result"
    }
   ],
   "source": [
    "df.corr()"
   ]
  },
  {
   "cell_type": "code",
   "execution_count": 48,
   "metadata": {
    "ExecuteTime": {
     "end_time": "2020-03-12T11:02:28.737019Z",
     "start_time": "2020-03-12T11:02:28.097366Z"
    }
   },
   "outputs": [
    {
     "data": {
      "text/plain": [
       "<matplotlib.axes._subplots.AxesSubplot at 0x19dcfd70e08>"
      ]
     },
     "execution_count": 48,
     "metadata": {},
     "output_type": "execute_result"
    },
    {
     "data": {
      "image/png": "[encoded data removed]",
      "text/plain": [
       "<Figure size 432x288 with 2 Axes>"
      ]
     },
     "metadata": {
      "needs_background": "light"
     },
     "output_type": "display_data"
    }
   ],
   "source": [
    "sns.heatmap(df.corr())"
   ]
  },
  {
   "cell_type": "markdown",
   "metadata": {},
   "source": [
    "Here in 'V22' it is showing a white line because that variable only consist of 1 unique value.\n",
    "\n",
    "Therefore we will drop that particular column."
   ]
  },
  {
   "cell_type": "code",
   "execution_count": 49,
   "metadata": {
    "ExecuteTime": {
     "end_time": "2020-03-12T11:02:29.242724Z",
     "start_time": "2020-03-12T11:02:28.740998Z"
    }
   },
   "outputs": [
    {
     "data": {
      "image/png": "[encoded data removed]",
      "text/plain": [
       "<Figure size 720x432 with 1 Axes>"
      ]
     },
     "metadata": {
      "needs_background": "light"
     },
     "output_type": "display_data"
    }
   ],
   "source": [
    "f,ax=plt.subplots(figsize=(10,6))\n",
    "g=sns.boxplot(x='V10',y='V7',data=df,palette='rainbow');"
   ]
  },
  {
   "cell_type": "code",
   "execution_count": 50,
   "metadata": {
    "ExecuteTime": {
     "end_time": "2020-03-12T11:02:29.592508Z",
     "start_time": "2020-03-12T11:02:29.246707Z"
    }
   },
   "outputs": [
    {
     "data": {
      "image/png": "[encoded data removed]",
      "text/plain": [
       "<Figure size 1080x720 with 1 Axes>"
      ]
     },
     "metadata": {
      "needs_background": "light"
     },
     "output_type": "display_data"
    }
   ],
   "source": [
    "f,ax=plt.subplots(figsize=(15,10))\n",
    "g=sns.boxplot(x='V2',y='V7',data=df,palette='rainbow');"
   ]
  },
  {
   "cell_type": "code",
   "execution_count": 51,
   "metadata": {
    "ExecuteTime": {
     "end_time": "2020-03-12T11:02:30.330089Z",
     "start_time": "2020-03-12T11:02:29.595510Z"
    }
   },
   "outputs": [
    {
     "data": {
      "image/png": "[encoded data removed]",
      "text/plain": [
       "<Figure size 432x216 with 2 Axes>"
      ]
     },
     "metadata": {
      "needs_background": "light"
     },
     "output_type": "display_data"
    }
   ],
   "source": [
    "g=sns.FacetGrid(data=df,col='V2')\n",
    "g.map(plt.hist,'V17');"
   ]
  },
  {
   "cell_type": "code",
   "execution_count": 52,
   "metadata": {
    "ExecuteTime": {
     "end_time": "2020-03-12T11:02:34.849970Z",
     "start_time": "2020-03-12T11:02:30.333088Z"
    }
   },
   "outputs": [
    {
     "data": {
      "image/png": "[encoded data removed]",
      "text/plain": [
       "<Figure size 720x360 with 1 Axes>"
      ]
     },
     "metadata": {
      "needs_background": "light"
     },
     "output_type": "display_data"
    }
   ],
   "source": [
    "f,ax=plt.subplots(figsize=(10,5))\n",
    "sns.stripplot(x='V14',y='V6',data=df,hue='V32',jitter=True);"
   ]
  },
  {
   "cell_type": "code",
   "execution_count": 53,
   "metadata": {
    "ExecuteTime": {
     "end_time": "2020-03-12T11:02:35.666507Z",
     "start_time": "2020-03-12T11:02:34.852971Z"
    }
   },
   "outputs": [
    {
     "data": {
      "text/plain": [
       "<matplotlib.axes._subplots.AxesSubplot at 0x19dc37f8ec8>"
      ]
     },
     "execution_count": 53,
     "metadata": {},
     "output_type": "execute_result"
    },
    {
     "data": {
      "image/png": "[encoded data removed]",
      "text/plain": [
       "<Figure size 432x288 with 1 Axes>"
      ]
     },
     "metadata": {
      "needs_background": "light"
     },
     "output_type": "display_data"
    }
   ],
   "source": [
    "sns.violinplot(x='V15',y='V17',data=df,hue='V2',palette='Set1')"
   ]
  },
  {
   "cell_type": "code",
   "execution_count": 54,
   "metadata": {
    "ExecuteTime": {
     "end_time": "2020-03-12T11:02:36.161220Z",
     "start_time": "2020-03-12T11:02:35.671501Z"
    }
   },
   "outputs": [
    {
     "data": {
      "image/png": "[encoded data removed]",
      "text/plain": [
       "<Figure size 1080x720 with 1 Axes>"
      ]
     },
     "metadata": {
      "needs_background": "light"
     },
     "output_type": "display_data"
    }
   ],
   "source": [
    "f,ax=plt.subplots(figsize=(15,10))\n",
    "g=sns.boxplot(x='V14',y='V17',data=df,palette='rainbow');"
   ]
  },
  {
   "cell_type": "code",
   "execution_count": 55,
   "metadata": {
    "ExecuteTime": {
     "end_time": "2020-03-12T11:02:42.504724Z",
     "start_time": "2020-03-12T11:02:36.165217Z"
    }
   },
   "outputs": [
    {
     "data": {
      "image/png": "[encoded data removed]",
      "text/plain": [
       "<Figure size 699.875x432 with 6 Axes>"
      ]
     },
     "metadata": {
      "needs_background": "light"
     },
     "output_type": "display_data"
    }
   ],
   "source": [
    "g=sns.FacetGrid(df,col='V15',row='V13',hue='V2')\n",
    "g=g.map(plt.scatter,'V6','V17').add_legend();"
   ]
  },
  {
   "cell_type": "code",
   "execution_count": 56,
   "metadata": {
    "ExecuteTime": {
     "end_time": "2020-03-12T11:02:43.089408Z",
     "start_time": "2020-03-12T11:02:42.508721Z"
    }
   },
   "outputs": [
    {
     "data": {
      "image/png": "[encoded data removed]",
      "text/plain": [
       "<Figure size 1440x720 with 1 Axes>"
      ]
     },
     "metadata": {
      "needs_background": "light"
     },
     "output_type": "display_data"
    }
   ],
   "source": [
    "f,ax=plt.subplots(figsize=(20,10))\n",
    "sns.distplot(df['V6']);"
   ]
  },
  {
   "cell_type": "code",
   "execution_count": 57,
   "metadata": {
    "ExecuteTime": {
     "end_time": "2020-03-12T11:02:43.683048Z",
     "start_time": "2020-03-12T11:02:43.092387Z"
    }
   },
   "outputs": [
    {
     "data": {
      "image/png": "[encoded data removed]",
      "text/plain": [
       "<Figure size 1440x720 with 1 Axes>"
      ]
     },
     "metadata": {
      "needs_background": "light"
     },
     "output_type": "display_data"
    }
   ],
   "source": [
    "f,ax=plt.subplots(figsize=(20,10))\n",
    "sns.distplot(df['V5']);"
   ]
  },
  {
   "cell_type": "code",
   "execution_count": 58,
   "metadata": {
    "ExecuteTime": {
     "end_time": "2020-03-12T11:02:44.204750Z",
     "start_time": "2020-03-12T11:02:43.688047Z"
    }
   },
   "outputs": [
    {
     "data": {
      "image/png": "[encoded data removed]",
      "text/plain": [
       "<Figure size 1440x720 with 1 Axes>"
      ]
     },
     "metadata": {
      "needs_background": "light"
     },
     "output_type": "display_data"
    }
   ],
   "source": [
    "f,ax=plt.subplots(figsize=(20,10))\n",
    "sns.distplot(df['V8']);"
   ]
  },
  {
   "cell_type": "code",
   "execution_count": 59,
   "metadata": {
    "ExecuteTime": {
     "end_time": "2020-03-12T11:02:44.754437Z",
     "start_time": "2020-03-12T11:02:44.208748Z"
    }
   },
   "outputs": [
    {
     "data": {
      "image/png": "[encoded data removed]",
      "text/plain": [
       "<Figure size 1440x720 with 1 Axes>"
      ]
     },
     "metadata": {
      "needs_background": "light"
     },
     "output_type": "display_data"
    }
   ],
   "source": [
    "f,ax=plt.subplots(figsize=(20,10))\n",
    "sns.distplot(df['V9']);"
   ]
  },
  {
   "cell_type": "code",
   "execution_count": 60,
   "metadata": {
    "ExecuteTime": {
     "end_time": "2020-03-12T11:02:45.360089Z",
     "start_time": "2020-03-12T11:02:44.758434Z"
    }
   },
   "outputs": [
    {
     "data": {
      "image/png": "[encoded data removed]",
      "text/plain": [
       "<Figure size 1440x720 with 1 Axes>"
      ]
     },
     "metadata": {
      "needs_background": "light"
     },
     "output_type": "display_data"
    }
   ],
   "source": [
    "f,ax=plt.subplots(figsize=(20,10))\n",
    "sns.distplot(df['V11']);"
   ]
  },
  {
   "cell_type": "markdown",
   "metadata": {},
   "source": [
    "## Dummification of Categorical Variables"
   ]
  },
  {
   "cell_type": "code",
   "execution_count": 61,
   "metadata": {
    "ExecuteTime": {
     "end_time": "2020-03-12T11:02:45.379098Z",
     "start_time": "2020-03-12T11:02:45.363089Z"
    }
   },
   "outputs": [],
   "source": [
    "dummy_1=pd.get_dummies(df['V10'],drop_first=True)"
   ]
  },
  {
   "cell_type": "code",
   "execution_count": 62,
   "metadata": {
    "ExecuteTime": {
     "end_time": "2020-03-12T11:02:45.510231Z",
     "start_time": "2020-03-12T11:02:45.382080Z"
    }
   },
   "outputs": [],
   "source": [
    "dummy_2=pd.get_dummies(df['V13'],drop_first=True)"
   ]
  },
  {
   "cell_type": "code",
   "execution_count": 63,
   "metadata": {
    "ExecuteTime": {
     "end_time": "2020-03-12T11:02:45.596170Z",
     "start_time": "2020-03-12T11:02:45.513217Z"
    }
   },
   "outputs": [],
   "source": [
    "dummy_3=pd.get_dummies(df['V14'],drop_first=True)"
   ]
  },
  {
   "cell_type": "code",
   "execution_count": 64,
   "metadata": {
    "ExecuteTime": {
     "end_time": "2020-03-12T11:02:45.681121Z",
     "start_time": "2020-03-12T11:02:45.603168Z"
    }
   },
   "outputs": [],
   "source": [
    "dummy_4=pd.get_dummies(df['V15'],drop_first=True)"
   ]
  },
  {
   "cell_type": "code",
   "execution_count": 65,
   "metadata": {
    "ExecuteTime": {
     "end_time": "2020-03-12T11:02:45.778066Z",
     "start_time": "2020-03-12T11:02:45.686119Z"
    }
   },
   "outputs": [],
   "source": [
    "dummy_5=pd.get_dummies(df['V31'],drop_first=True)"
   ]
  },
  {
   "cell_type": "code",
   "execution_count": 66,
   "metadata": {
    "ExecuteTime": {
     "end_time": "2020-03-12T11:02:45.877014Z",
     "start_time": "2020-03-12T11:02:45.781065Z"
    }
   },
   "outputs": [],
   "source": [
    "df=df.drop(columns=['V10','V13','V14','V15','V31','V22'])"
   ]
  },
  {
   "cell_type": "code",
   "execution_count": 67,
   "metadata": {
    "ExecuteTime": {
     "end_time": "2020-03-12T11:02:46.073936Z",
     "start_time": "2020-03-12T11:02:45.879936Z"
    }
   },
   "outputs": [
    {
     "data": {
      "text/html": [
       "<div>\n",
       "<style scoped>\n",
       "    .dataframe tbody tr th:only-of-type {\n",
       "        vertical-align: middle;\n",
       "    }\n",
       "\n",
       "    .dataframe tbody tr th {\n",
       "        vertical-align: top;\n",
       "    }\n",
       "\n",
       "    .dataframe thead th {\n",
       "        text-align: right;\n",
       "    }\n",
       "</style>\n",
       "<table border=\"1\" class=\"dataframe\">\n",
       "  <thead>\n",
       "    <tr style=\"text-align: right;\">\n",
       "      <th></th>\n",
       "      <th>V1</th>\n",
       "      <th>V2</th>\n",
       "      <th>V3</th>\n",
       "      <th>V4</th>\n",
       "      <th>V5</th>\n",
       "      <th>V6</th>\n",
       "      <th>V7</th>\n",
       "      <th>V8</th>\n",
       "      <th>V9</th>\n",
       "      <th>V11</th>\n",
       "      <th>...</th>\n",
       "      <th>MALE</th>\n",
       "      <th>PENS</th>\n",
       "      <th>SAL</th>\n",
       "      <th>SELF</th>\n",
       "      <th>STUDENT</th>\n",
       "      <th>OWNED</th>\n",
       "      <th>RENT</th>\n",
       "      <th>TIER 2</th>\n",
       "      <th>TIER 3</th>\n",
       "      <th>TIER 4</th>\n",
       "    </tr>\n",
       "  </thead>\n",
       "  <tbody>\n",
       "    <tr>\n",
       "      <td>0</td>\n",
       "      <td>1.0</td>\n",
       "      <td>0.0</td>\n",
       "      <td>0.0</td>\n",
       "      <td>24.0</td>\n",
       "      <td>0.0</td>\n",
       "      <td>2432.0</td>\n",
       "      <td>46500.0</td>\n",
       "      <td>24.0</td>\n",
       "      <td>1385.0</td>\n",
       "      <td>0.0</td>\n",
       "      <td>...</td>\n",
       "      <td>0</td>\n",
       "      <td>0</td>\n",
       "      <td>0</td>\n",
       "      <td>0</td>\n",
       "      <td>0</td>\n",
       "      <td>1</td>\n",
       "      <td>0</td>\n",
       "      <td>0</td>\n",
       "      <td>0</td>\n",
       "      <td>0</td>\n",
       "    </tr>\n",
       "    <tr>\n",
       "      <td>1</td>\n",
       "      <td>2.0</td>\n",
       "      <td>0.0</td>\n",
       "      <td>1.0</td>\n",
       "      <td>24.0</td>\n",
       "      <td>1.0</td>\n",
       "      <td>1495.0</td>\n",
       "      <td>28168.0</td>\n",
       "      <td>24.0</td>\n",
       "      <td>2496.0</td>\n",
       "      <td>0.0</td>\n",
       "      <td>...</td>\n",
       "      <td>1</td>\n",
       "      <td>0</td>\n",
       "      <td>0</td>\n",
       "      <td>1</td>\n",
       "      <td>0</td>\n",
       "      <td>0</td>\n",
       "      <td>1</td>\n",
       "      <td>0</td>\n",
       "      <td>0</td>\n",
       "      <td>0</td>\n",
       "    </tr>\n",
       "    <tr>\n",
       "      <td>2</td>\n",
       "      <td>3.0</td>\n",
       "      <td>0.0</td>\n",
       "      <td>0.0</td>\n",
       "      <td>26.0</td>\n",
       "      <td>0.0</td>\n",
       "      <td>1707.0</td>\n",
       "      <td>38900.0</td>\n",
       "      <td>30.0</td>\n",
       "      <td>1346.0</td>\n",
       "      <td>0.0</td>\n",
       "      <td>...</td>\n",
       "      <td>1</td>\n",
       "      <td>0</td>\n",
       "      <td>0</td>\n",
       "      <td>1</td>\n",
       "      <td>0</td>\n",
       "      <td>0</td>\n",
       "      <td>1</td>\n",
       "      <td>0</td>\n",
       "      <td>0</td>\n",
       "      <td>0</td>\n",
       "    </tr>\n",
       "    <tr>\n",
       "      <td>3</td>\n",
       "      <td>4.0</td>\n",
       "      <td>0.0</td>\n",
       "      <td>0.0</td>\n",
       "      <td>24.0</td>\n",
       "      <td>0.0</td>\n",
       "      <td>2128.0</td>\n",
       "      <td>42900.0</td>\n",
       "      <td>24.0</td>\n",
       "      <td>1375.0</td>\n",
       "      <td>2.0</td>\n",
       "      <td>...</td>\n",
       "      <td>0</td>\n",
       "      <td>0</td>\n",
       "      <td>1</td>\n",
       "      <td>0</td>\n",
       "      <td>0</td>\n",
       "      <td>0</td>\n",
       "      <td>1</td>\n",
       "      <td>0</td>\n",
       "      <td>0</td>\n",
       "      <td>0</td>\n",
       "    </tr>\n",
       "    <tr>\n",
       "      <td>4</td>\n",
       "      <td>5.0</td>\n",
       "      <td>0.0</td>\n",
       "      <td>0.0</td>\n",
       "      <td>27.0</td>\n",
       "      <td>0.0</td>\n",
       "      <td>1824.0</td>\n",
       "      <td>40900.0</td>\n",
       "      <td>30.0</td>\n",
       "      <td>4140.0</td>\n",
       "      <td>0.0</td>\n",
       "      <td>...</td>\n",
       "      <td>1</td>\n",
       "      <td>0</td>\n",
       "      <td>1</td>\n",
       "      <td>0</td>\n",
       "      <td>0</td>\n",
       "      <td>0</td>\n",
       "      <td>1</td>\n",
       "      <td>0</td>\n",
       "      <td>0</td>\n",
       "      <td>0</td>\n",
       "    </tr>\n",
       "    <tr>\n",
       "      <td>...</td>\n",
       "      <td>...</td>\n",
       "      <td>...</td>\n",
       "      <td>...</td>\n",
       "      <td>...</td>\n",
       "      <td>...</td>\n",
       "      <td>...</td>\n",
       "      <td>...</td>\n",
       "      <td>...</td>\n",
       "      <td>...</td>\n",
       "      <td>...</td>\n",
       "      <td>...</td>\n",
       "      <td>...</td>\n",
       "      <td>...</td>\n",
       "      <td>...</td>\n",
       "      <td>...</td>\n",
       "      <td>...</td>\n",
       "      <td>...</td>\n",
       "      <td>...</td>\n",
       "      <td>...</td>\n",
       "      <td>...</td>\n",
       "      <td>...</td>\n",
       "    </tr>\n",
       "    <tr>\n",
       "      <td>119523</td>\n",
       "      <td>119524.0</td>\n",
       "      <td>0.0</td>\n",
       "      <td>1.0</td>\n",
       "      <td>20.0</td>\n",
       "      <td>1.0</td>\n",
       "      <td>2612.0</td>\n",
       "      <td>46900.0</td>\n",
       "      <td>24.0</td>\n",
       "      <td>3578.0</td>\n",
       "      <td>1.0</td>\n",
       "      <td>...</td>\n",
       "      <td>1</td>\n",
       "      <td>0</td>\n",
       "      <td>0</td>\n",
       "      <td>1</td>\n",
       "      <td>0</td>\n",
       "      <td>1</td>\n",
       "      <td>0</td>\n",
       "      <td>0</td>\n",
       "      <td>1</td>\n",
       "      <td>0</td>\n",
       "    </tr>\n",
       "    <tr>\n",
       "      <td>119524</td>\n",
       "      <td>119525.0</td>\n",
       "      <td>0.0</td>\n",
       "      <td>0.0</td>\n",
       "      <td>20.0</td>\n",
       "      <td>1.0</td>\n",
       "      <td>2612.0</td>\n",
       "      <td>46900.0</td>\n",
       "      <td>24.0</td>\n",
       "      <td>3578.0</td>\n",
       "      <td>1.0</td>\n",
       "      <td>...</td>\n",
       "      <td>1</td>\n",
       "      <td>0</td>\n",
       "      <td>0</td>\n",
       "      <td>1</td>\n",
       "      <td>0</td>\n",
       "      <td>1</td>\n",
       "      <td>0</td>\n",
       "      <td>0</td>\n",
       "      <td>1</td>\n",
       "      <td>0</td>\n",
       "    </tr>\n",
       "    <tr>\n",
       "      <td>119525</td>\n",
       "      <td>119526.0</td>\n",
       "      <td>0.0</td>\n",
       "      <td>0.0</td>\n",
       "      <td>20.0</td>\n",
       "      <td>1.0</td>\n",
       "      <td>2612.0</td>\n",
       "      <td>46900.0</td>\n",
       "      <td>24.0</td>\n",
       "      <td>3578.0</td>\n",
       "      <td>1.0</td>\n",
       "      <td>...</td>\n",
       "      <td>1</td>\n",
       "      <td>0</td>\n",
       "      <td>0</td>\n",
       "      <td>1</td>\n",
       "      <td>0</td>\n",
       "      <td>1</td>\n",
       "      <td>0</td>\n",
       "      <td>0</td>\n",
       "      <td>1</td>\n",
       "      <td>0</td>\n",
       "    </tr>\n",
       "    <tr>\n",
       "      <td>119526</td>\n",
       "      <td>119527.0</td>\n",
       "      <td>0.0</td>\n",
       "      <td>1.0</td>\n",
       "      <td>20.0</td>\n",
       "      <td>1.0</td>\n",
       "      <td>2612.0</td>\n",
       "      <td>46900.0</td>\n",
       "      <td>24.0</td>\n",
       "      <td>3578.0</td>\n",
       "      <td>1.0</td>\n",
       "      <td>...</td>\n",
       "      <td>1</td>\n",
       "      <td>0</td>\n",
       "      <td>0</td>\n",
       "      <td>1</td>\n",
       "      <td>0</td>\n",
       "      <td>1</td>\n",
       "      <td>0</td>\n",
       "      <td>0</td>\n",
       "      <td>0</td>\n",
       "      <td>0</td>\n",
       "    </tr>\n",
       "    <tr>\n",
       "      <td>119527</td>\n",
       "      <td>119528.0</td>\n",
       "      <td>0.0</td>\n",
       "      <td>0.0</td>\n",
       "      <td>20.0</td>\n",
       "      <td>1.0</td>\n",
       "      <td>2612.0</td>\n",
       "      <td>46900.0</td>\n",
       "      <td>24.0</td>\n",
       "      <td>3578.0</td>\n",
       "      <td>1.0</td>\n",
       "      <td>...</td>\n",
       "      <td>1</td>\n",
       "      <td>0</td>\n",
       "      <td>0</td>\n",
       "      <td>1</td>\n",
       "      <td>0</td>\n",
       "      <td>1</td>\n",
       "      <td>0</td>\n",
       "      <td>1</td>\n",
       "      <td>0</td>\n",
       "      <td>0</td>\n",
       "    </tr>\n",
       "  </tbody>\n",
       "</table>\n",
       "<p>119528 rows × 34 columns</p>\n",
       "</div>"
      ],
      "text/plain": [
       "              V1   V2   V3    V4   V5      V6       V7    V8      V9  V11  \\\n",
       "0            1.0  0.0  0.0  24.0  0.0  2432.0  46500.0  24.0  1385.0  0.0   \n",
       "1            2.0  0.0  1.0  24.0  1.0  1495.0  28168.0  24.0  2496.0  0.0   \n",
       "2            3.0  0.0  0.0  26.0  0.0  1707.0  38900.0  30.0  1346.0  0.0   \n",
       "3            4.0  0.0  0.0  24.0  0.0  2128.0  42900.0  24.0  1375.0  2.0   \n",
       "4            5.0  0.0  0.0  27.0  0.0  1824.0  40900.0  30.0  4140.0  0.0   \n",
       "...          ...  ...  ...   ...  ...     ...      ...   ...     ...  ...   \n",
       "119523  119524.0  0.0  1.0  20.0  1.0  2612.0  46900.0  24.0  3578.0  1.0   \n",
       "119524  119525.0  0.0  0.0  20.0  1.0  2612.0  46900.0  24.0  3578.0  1.0   \n",
       "119525  119526.0  0.0  0.0  20.0  1.0  2612.0  46900.0  24.0  3578.0  1.0   \n",
       "119526  119527.0  0.0  1.0  20.0  1.0  2612.0  46900.0  24.0  3578.0  1.0   \n",
       "119527  119528.0  0.0  0.0  20.0  1.0  2612.0  46900.0  24.0  3578.0  1.0   \n",
       "\n",
       "        ...  MALE  PENS  SAL  SELF  STUDENT  OWNED  RENT  TIER 2  TIER 3  \\\n",
       "0       ...     0     0    0     0        0      1     0       0       0   \n",
       "1       ...     1     0    0     1        0      0     1       0       0   \n",
       "2       ...     1     0    0     1        0      0     1       0       0   \n",
       "3       ...     0     0    1     0        0      0     1       0       0   \n",
       "4       ...     1     0    1     0        0      0     1       0       0   \n",
       "...     ...   ...   ...  ...   ...      ...    ...   ...     ...     ...   \n",
       "119523  ...     1     0    0     1        0      1     0       0       1   \n",
       "119524  ...     1     0    0     1        0      1     0       0       1   \n",
       "119525  ...     1     0    0     1        0      1     0       0       1   \n",
       "119526  ...     1     0    0     1        0      1     0       0       0   \n",
       "119527  ...     1     0    0     1        0      1     0       1       0   \n",
       "\n",
       "        TIER 4  \n",
       "0            0  \n",
       "1            0  \n",
       "2            0  \n",
       "3            0  \n",
       "4            0  \n",
       "...        ...  \n",
       "119523       0  \n",
       "119524       0  \n",
       "119525       0  \n",
       "119526       0  \n",
       "119527       0  \n",
       "\n",
       "[119528 rows x 34 columns]"
      ]
     },
     "execution_count": 67,
     "metadata": {},
     "output_type": "execute_result"
    }
   ],
   "source": [
    "df=pd.concat([df,dummy_1,dummy_2,dummy_3,dummy_4,dummy_5],axis=1)\n",
    "df"
   ]
  },
  {
   "cell_type": "markdown",
   "metadata": {},
   "source": [
    "## Setting Independent and Dependent Variables"
   ]
  },
  {
   "cell_type": "code",
   "execution_count": 68,
   "metadata": {
    "ExecuteTime": {
     "end_time": "2020-03-12T11:02:46.112912Z",
     "start_time": "2020-03-12T11:02:46.077933Z"
    }
   },
   "outputs": [],
   "source": [
    "X=df.drop(columns=['V32'])\n",
    "y=df['V32']"
   ]
  },
  {
   "cell_type": "code",
   "execution_count": 69,
   "metadata": {
    "ExecuteTime": {
     "end_time": "2020-03-12T11:02:46.189870Z",
     "start_time": "2020-03-12T11:02:46.116911Z"
    }
   },
   "outputs": [
    {
     "data": {
      "text/plain": [
       "(119528, 33)"
      ]
     },
     "execution_count": 69,
     "metadata": {},
     "output_type": "execute_result"
    }
   ],
   "source": [
    "X.shape"
   ]
  },
  {
   "cell_type": "markdown",
   "metadata": {},
   "source": [
    "## Train - Test Split"
   ]
  },
  {
   "cell_type": "code",
   "execution_count": 70,
   "metadata": {
    "ExecuteTime": {
     "end_time": "2020-03-12T11:02:47.678018Z",
     "start_time": "2020-03-12T11:02:46.208859Z"
    }
   },
   "outputs": [],
   "source": [
    "from sklearn.model_selection import train_test_split\n",
    "X_train,X_test,y_train,y_test=train_test_split(X,y,test_size=0.33,\n",
    "                                                       random_state=44)"
   ]
  },
  {
   "cell_type": "code",
   "execution_count": 71,
   "metadata": {
    "ExecuteTime": {
     "end_time": "2020-03-12T11:02:47.698007Z",
     "start_time": "2020-03-12T11:02:47.688011Z"
    }
   },
   "outputs": [
    {
     "data": {
      "text/plain": [
       "(80083, 33)"
      ]
     },
     "execution_count": 71,
     "metadata": {},
     "output_type": "execute_result"
    }
   ],
   "source": [
    "X_train.shape"
   ]
  },
  {
   "cell_type": "markdown",
   "metadata": {},
   "source": [
    "## Feature Scaling"
   ]
  },
  {
   "cell_type": "code",
   "execution_count": 72,
   "metadata": {
    "ExecuteTime": {
     "end_time": "2020-03-12T11:02:48.030817Z",
     "start_time": "2020-03-12T11:02:47.702004Z"
    }
   },
   "outputs": [],
   "source": [
    "from sklearn.preprocessing import StandardScaler\n",
    "sc_X=StandardScaler()\n",
    "X_train=sc_X.fit_transform(X_train)\n",
    "X_test=sc_X.transform(X_test)"
   ]
  },
  {
   "cell_type": "markdown",
   "metadata": {},
   "source": [
    "## Modelling"
   ]
  },
  {
   "cell_type": "markdown",
   "metadata": {},
   "source": [
    "### KNN"
   ]
  },
  {
   "cell_type": "code",
   "execution_count": 73,
   "metadata": {
    "ExecuteTime": {
     "end_time": "2020-03-12T11:02:48.162739Z",
     "start_time": "2020-03-12T11:02:48.038811Z"
    }
   },
   "outputs": [],
   "source": [
    "from sklearn.neighbors import KNeighborsClassifier\n",
    "classifier_KNN=KNeighborsClassifier()"
   ]
  },
  {
   "cell_type": "code",
   "execution_count": 74,
   "metadata": {
    "ExecuteTime": {
     "end_time": "2020-03-12T11:03:23.770703Z",
     "start_time": "2020-03-12T11:02:48.169736Z"
    }
   },
   "outputs": [
    {
     "data": {
      "text/plain": [
       "KNeighborsClassifier(algorithm='auto', leaf_size=30, metric='minkowski',\n",
       "                     metric_params=None, n_jobs=None, n_neighbors=5, p=2,\n",
       "                     weights='uniform')"
      ]
     },
     "execution_count": 74,
     "metadata": {},
     "output_type": "execute_result"
    }
   ],
   "source": [
    "classifier_KNN.fit(X_train,y_train)"
   ]
  },
  {
   "cell_type": "code",
   "execution_count": 75,
   "metadata": {
    "ExecuteTime": {
     "end_time": "2020-03-12T11:06:48.157606Z",
     "start_time": "2020-03-12T11:03:23.773702Z"
    }
   },
   "outputs": [],
   "source": [
    "y_pred_KNN=classifier_KNN.predict(X_test)"
   ]
  },
  {
   "cell_type": "code",
   "execution_count": 76,
   "metadata": {
    "ExecuteTime": {
     "end_time": "2020-03-12T11:08:26.614681Z",
     "start_time": "2020-03-12T11:08:26.553715Z"
    }
   },
   "outputs": [
    {
     "data": {
      "text/plain": [
       "array([[38497,    56],\n",
       "       [  877,    15]], dtype=int64)"
      ]
     },
     "execution_count": 76,
     "metadata": {},
     "output_type": "execute_result"
    }
   ],
   "source": [
    "from sklearn.metrics import confusion_matrix\n",
    "cm=confusion_matrix(y_test,y_pred_KNN)\n",
    "cm"
   ]
  },
  {
   "cell_type": "code",
   "execution_count": 77,
   "metadata": {
    "ExecuteTime": {
     "end_time": "2020-03-12T11:08:50.255068Z",
     "start_time": "2020-03-12T11:08:50.155129Z"
    }
   },
   "outputs": [
    {
     "name": "stdout",
     "output_type": "stream",
     "text": [
      "              precision    recall  f1-score   support\n",
      "\n",
      "         0.0       0.98      1.00      0.99     38553\n",
      "         1.0       0.21      0.02      0.03       892\n",
      "\n",
      "    accuracy                           0.98     39445\n",
      "   macro avg       0.59      0.51      0.51     39445\n",
      "weighted avg       0.96      0.98      0.97     39445\n",
      "\n"
     ]
    }
   ],
   "source": [
    "from sklearn.metrics import classification_report\n",
    "print(classification_report(y_test,y_pred_KNN))"
   ]
  },
  {
   "cell_type": "markdown",
   "metadata": {},
   "source": [
    "### Decision Tree"
   ]
  },
  {
   "cell_type": "code",
   "execution_count": 78,
   "metadata": {
    "ExecuteTime": {
     "end_time": "2020-03-12T11:13:10.938872Z",
     "start_time": "2020-03-12T11:13:10.889880Z"
    }
   },
   "outputs": [],
   "source": [
    "from sklearn.tree import DecisionTreeClassifier\n",
    "classifier_DT=DecisionTreeClassifier(criterion='entropy',random_state=44)"
   ]
  },
  {
   "cell_type": "code",
   "execution_count": 79,
   "metadata": {
    "ExecuteTime": {
     "end_time": "2020-03-12T11:13:12.317074Z",
     "start_time": "2020-03-12T11:13:10.944860Z"
    }
   },
   "outputs": [
    {
     "data": {
      "text/plain": [
       "DecisionTreeClassifier(class_weight=None, criterion='entropy', max_depth=None,\n",
       "                       max_features=None, max_leaf_nodes=None,\n",
       "                       min_impurity_decrease=0.0, min_impurity_split=None,\n",
       "                       min_samples_leaf=1, min_samples_split=2,\n",
       "                       min_weight_fraction_leaf=0.0, presort=False,\n",
       "                       random_state=44, splitter='best')"
      ]
     },
     "execution_count": 79,
     "metadata": {},
     "output_type": "execute_result"
    }
   ],
   "source": [
    "classifier_DT.fit(X_train,y_train)"
   ]
  },
  {
   "cell_type": "code",
   "execution_count": 80,
   "metadata": {
    "ExecuteTime": {
     "end_time": "2020-03-12T11:13:12.343058Z",
     "start_time": "2020-03-12T11:13:12.322069Z"
    }
   },
   "outputs": [],
   "source": [
    "y_pred_DT=classifier_DT.predict(X_test)"
   ]
  },
  {
   "cell_type": "code",
   "execution_count": 81,
   "metadata": {
    "ExecuteTime": {
     "end_time": "2020-03-12T11:13:12.519865Z",
     "start_time": "2020-03-12T11:13:12.350053Z"
    }
   },
   "outputs": [
    {
     "data": {
      "text/plain": [
       "array([[37710,   843],\n",
       "       [  778,   114]], dtype=int64)"
      ]
     },
     "execution_count": 81,
     "metadata": {},
     "output_type": "execute_result"
    }
   ],
   "source": [
    "cm=confusion_matrix(y_test,y_pred_DT)\n",
    "cm"
   ]
  },
  {
   "cell_type": "code",
   "execution_count": 82,
   "metadata": {
    "ExecuteTime": {
     "end_time": "2020-03-12T11:13:12.798379Z",
     "start_time": "2020-03-12T11:13:12.522843Z"
    }
   },
   "outputs": [
    {
     "name": "stdout",
     "output_type": "stream",
     "text": [
      "              precision    recall  f1-score   support\n",
      "\n",
      "         0.0       0.98      0.98      0.98     38553\n",
      "         1.0       0.12      0.13      0.12       892\n",
      "\n",
      "    accuracy                           0.96     39445\n",
      "   macro avg       0.55      0.55      0.55     39445\n",
      "weighted avg       0.96      0.96      0.96     39445\n",
      "\n"
     ]
    }
   ],
   "source": [
    "print(classification_report(y_test,y_pred_DT))"
   ]
  },
  {
   "cell_type": "code",
   "execution_count": null,
   "metadata": {},
   "outputs": [],
   "source": []
  }
 ],
 "metadata": {
  "kernelspec": {
   "display_name": "Python 3",
   "language": "python",
   "name": "python3"
  },
  "language_info": {
   "codemirror_mode": {
    "name": "ipython",
    "version": 3
   },
   "file_extension": ".py",
   "mimetype": "text/x-python",
   "name": "python",
   "nbconvert_exporter": "python",
   "pygments_lexer": "ipython3",
   "version": "3.7.4"
  },
  "toc": {
   "base_numbering": 1,
   "nav_menu": {},
   "number_sections": true,
   "sideBar": true,
   "skip_h1_title": false,
   "title_cell": "Table of Contents",
   "title_sidebar": "Contents",
   "toc_cell": true,
   "toc_position": {},
   "toc_section_display": true,
   "toc_window_display": true
  }
 },
 "nbformat": 4,
 "nbformat_minor": 2
}
